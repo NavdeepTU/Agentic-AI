{
 "cells": [
  {
   "cell_type": "code",
   "execution_count": 1,
   "metadata": {},
   "outputs": [],
   "source": [
    "from typing import Annotated\n",
    "\n",
    "from typing_extensions import TypedDict\n",
    "\n",
    "from langgraph.graph import StateGraph, START, END\n",
    "from langgraph.graph.message import add_messages\n",
    "\n",
    "class State(TypedDict):\n",
    "    # Messages have the type \"list\". The `add_messages` function\n",
    "    # in the annotation defines how this state key should be updated\n",
    "    # (in this case, it appends messages to the list, rather than overwriting them)\n",
    "    messages: Annotated[list, add_messages]\n",
    "\n",
    "graph_builder = StateGraph(State)"
   ]
  },
  {
   "cell_type": "code",
   "execution_count": 2,
   "metadata": {},
   "outputs": [
    {
     "data": {
      "text/plain": [
       "<langgraph.graph.state.StateGraph at 0x1202c1dc0>"
      ]
     },
     "execution_count": 2,
     "metadata": {},
     "output_type": "execute_result"
    }
   ],
   "source": [
    "# add a chatbot node\n",
    "\n",
    "from dotenv import load_dotenv\n",
    "load_dotenv()\n",
    "from langchain_openai import ChatOpenAI\n",
    "\n",
    "llm = ChatOpenAI(model=\"gpt-4o-mini\")\n",
    "\n",
    "def chatbot(state: State):\n",
    "    return {\"messages\": [llm.invoke(state[\"messages\"])]}\n",
    "\n",
    "# The first argument is the unique node name\n",
    "# The second argument is the function or object that will be called whenever\n",
    "# the node is used.\n",
    "graph_builder.add_node(\"chatbot\", chatbot)"
   ]
  },
  {
   "cell_type": "code",
   "execution_count": 3,
   "metadata": {},
   "outputs": [
    {
     "data": {
      "text/plain": [
       "<langgraph.graph.state.StateGraph at 0x1202c1dc0>"
      ]
     },
     "execution_count": 3,
     "metadata": {},
     "output_type": "execute_result"
    }
   ],
   "source": [
    "# add an entry point\n",
    "graph_builder.add_edge(START, \"chatbot\")"
   ]
  },
  {
   "cell_type": "code",
   "execution_count": 4,
   "metadata": {},
   "outputs": [
    {
     "data": {
      "text/plain": [
       "<langgraph.graph.state.StateGraph at 0x1202c1dc0>"
      ]
     },
     "execution_count": 4,
     "metadata": {},
     "output_type": "execute_result"
    }
   ],
   "source": [
    "# set a finish point\n",
    "graph_builder.add_edge(\"chatbot\", END)"
   ]
  },
  {
   "cell_type": "code",
   "execution_count": 5,
   "metadata": {},
   "outputs": [],
   "source": [
    "# call \"compile()\" on the graph builder. This creates a \"CompiledGraph\" we can use invoke on our state.\n",
    "graph = graph_builder.compile()"
   ]
  },
  {
   "cell_type": "code",
   "execution_count": 7,
   "metadata": {},
   "outputs": [
    {
     "data": {
      "image/png": "[encoded data removed]",
      "text/plain": [
       "<IPython.core.display.Image object>"
      ]
     },
     "metadata": {},
     "output_type": "display_data"
    }
   ],
   "source": [
    "# visualize the graph using the get_graph method\n",
    "\n",
    "from IPython.display import Image, display\n",
    "\n",
    "try:\n",
    "    display(Image(graph.get_graph().draw_mermaid_png()))\n",
    "except Exception:\n",
    "    # This requires some extra dependencies and is optional\n",
    "    pass"
   ]
  },
  {
   "cell_type": "code",
   "execution_count": 8,
   "metadata": {},
   "outputs": [
    {
     "name": "stdout",
     "output_type": "stream",
     "text": [
      "Assistant: Hello! How can I assist you today?\n",
      "Assistant: Hello! How can I assist you today?\n",
      "Assistant: Hello! How can I assist you today?\n",
      "Assistant: It seems like your message might be incomplete or unclear. Could you please provide more context or clarify what you mean by \"uoh\"? I'm here to help!\n",
      "Assistant: Hello! I’m an AI language model created by OpenAI, here to assist you with information, answer your questions, or just chat. How can I help you today?\n",
      "Assistant: My knowledge was cut off in October 2021. I don't have information on events or developments that occurred after that date.\n",
      "Assistant: As of my last knowledge update in October 2023, \"LangGraph\" might refer to various concepts or projects, but it does not appear to be a widely recognized term or product. It's possible that it could relate to language processing, graph data structures, or a specific tool or library designed for working with language data in the form of graphs. \n",
      "\n",
      "If \"LangGraph\" is a recent development, product, or concept that emerged after my last update, I wouldn't have information on it. To get the most accurate and up-to-date information, I recommend checking the latest resources, official websites, or academic papers related to the term.\n",
      "Assistant: Certainly! Below is a Python implementation of the binary search algorithm. This implementation assumes that the input list is sorted in ascending order.\n",
      "\n",
      "```python\n",
      "def binary_search(arr, target):\n",
      "    \"\"\"\n",
      "    Perform binary search on a sorted array.\n",
      "\n",
      "    :param arr: List of sorted elements\n",
      "    :param target: The element to search for\n",
      "    :return: The index of the target element if found, otherwise -1\n",
      "    \"\"\"\n",
      "    left, right = 0, len(arr) - 1\n",
      "\n",
      "    while left <= right:\n",
      "        mid = left + (right - left) // 2  # Calculate the middle index\n",
      "\n",
      "        # Check if the target is present at mid\n",
      "        if arr[mid] == target:\n",
      "            return mid\n",
      "        # If target is greater than mid, ignore left half\n",
      "        elif arr[mid] < target:\n",
      "            left = mid + 1\n",
      "        # If target is smaller than mid, ignore right half\n",
      "        else:\n",
      "            right = mid - 1\n",
      "\n",
      "    # Target is not present in the array\n",
      "    return -1\n",
      "\n",
      "# Example usage\n",
      "if __name__ == \"__main__\":\n",
      "    # Sorted array\n",
      "    arr = [1, 2, 3, 4, 5, 6, 7, 8, 9, 10]\n",
      "    target = 7\n",
      "    \n",
      "    result = binary_search(arr, target)\n",
      "    \n",
      "    if result != -1:\n",
      "        print(f\"Element found at index {result}\")\n",
      "    else:\n",
      "        print(\"Element not found in array\")\n",
      "```\n",
      "\n",
      "### Explanation:\n",
      "1. **Initialization**: The `left` and `right` pointers are initialized to the start and end of the list, respectively.\n",
      "2. **While Loop**: The loop continues until the `left` pointer is less than or equal to the `right` pointer.\n",
      "3. **Mid Calculation**: The middle index is calculated. To avoid overflow, we use `left + (right - left) // 2`, which is safer than `(left + right) // 2` especially for large indices.\n",
      "4. **Comparison**:\n",
      "    - If the middle element equals the target, it returns the middle index.\n",
      "    - If the target is greater than the middle element, adjust the `left` pointer.\n",
      "    - If the target is less than the middle element, adjust the `right` pointer.\n",
      "5. If the target is not found, it returns `-1`.\n",
      "\n",
      "Feel free to modify the `arr` and `target` values in the example usage to test with different inputs!\n",
      "Goodbye!\n"
     ]
    }
   ],
   "source": [
    "# now let's run the chatbot\n",
    "\n",
    "def stream_graph_updates(user_input: str):\n",
    "    for event in graph.stream({\"messages\": [{\"role\": \"user\", \"content\": user_input}]}):\n",
    "        for value in event.values():\n",
    "            print(\"Assistant:\", value[\"messages\"][-1].content)\n",
    "\n",
    "while True:\n",
    "    try:\n",
    "        user_input = input(\"User: \")\n",
    "        if user_input.lower() in [\"quit\", \"exit\", \"q\"]:\n",
    "            print(\"Goodbye!\")\n",
    "            break\n",
    "\n",
    "        stream_graph_updates(user_input)\n",
    "    except:\n",
    "        # fallback if input() is not available\n",
    "        user_input = \"What do you know about LangGraph?\"\n",
    "        print(\"User: \" + user_input)\n",
    "        stream_graph_updates(user_input)\n",
    "        break"
   ]
  },
  {
   "cell_type": "code",
   "execution_count": 9,
   "metadata": {},
   "outputs": [
    {
     "data": {
      "text/plain": [
       "[{'url': 'https://medium.com/@vivekvjnk/introduction-to-tool-use-with-langgraphs-toolnode-0121f3c8c323',\n",
       "  'content': 'Introduction to Tool Use with LangGraph’s ToolNode | by Story_Teller | Dec, 2024 | Medium @tool @tool def llm_calculator_tool(inputs): \"\"\"A simple two-input calculator tool that delegates arithmetic operations to an LLM. {\\'description\\': \"A simple two-input calculator tool that delegates arithmetic operations to an LLM.\\\\n\\\\nArg:\\\\n    inputs: A dictionary with the following keys:\\\\n            operation (str): The operation to perform (\\'add\\', \\'subtract\\', \\'multiply\\', \\'divide\\').\\\\n            num1 (float): The first number.\\\\n            num2 (float): The second number.\\\\n\\\\nReturns:\\\\n    dict: A dictionary containing the operation, inputs, and the result.\", Here we explores how to enable tool use with LLM calls, emphasizing model selection, tool binding, and the importance of guiding tool behavior. This equips the LLM with the ability to perform tool calls seamlessly within its operational context. return \"tools\" response = model_with_tools.invoke(messages) workflow.add_edge(\"tools\", \"agent\")  '},\n",
       " {'url': 'https://medium.com/@cplog/building-tool-calling-conversational-ai-with-langchain-and-langgraph-a-beginners-guide-8d6986cc589e',\n",
       "  'content': 'Tool-Calling AI Agents with Langchain & Langgraph | Medium These tools can be seamlessly integrated into the AI’s decision-making process, allowing it to fetch real-time data or perform actions based on user requests. Process the conversation state: The AI can take in the current state and user inputs. builder.add_conditional_edges(\"assistant\", tools_condition) builder.add_edge(\"tools\", \"assistant\") Start with the assistant: The conversation begins with the assistant generating a response or determining the need for a tool. While the Assistant class presented here is one approach, the flexibility of tool calling and LangGraph allows for a wide range of designs. With LangChain and LangGraph, you can build a powerful, flexible AI assistant capable of handling complex tasks and conversations.'}]"
      ]
     },
     "execution_count": 9,
     "metadata": {},
     "output_type": "execute_result"
    }
   ],
   "source": [
    "# enhancing the chatbot with tools\n",
    "load_dotenv()\n",
    "\n",
    "# define the tool\n",
    "from langchain_community.tools.tavily_search import TavilySearchResults\n",
    "\n",
    "tool = TavilySearchResults(max_results=2)\n",
    "tools = [tool]\n",
    "tool.invoke(\"What is tool in LangGrapg?\")"
   ]
  },
  {
   "cell_type": "code",
   "execution_count": 10,
   "metadata": {},
   "outputs": [
    {
     "data": {
      "text/plain": [
       "<langgraph.graph.state.StateGraph at 0x127f2dbb0>"
      ]
     },
     "execution_count": 10,
     "metadata": {},
     "output_type": "execute_result"
    }
   ],
   "source": [
    "# defining the graph, added bind_tools on our LLM\n",
    "from typing import Annotated\n",
    "\n",
    "from langchain_openai import ChatOpenAI\n",
    "from typing_extensions import TypedDict\n",
    "\n",
    "from langgraph.graph import StateGraph, START, END\n",
    "from langgraph.graph.message import add_messages\n",
    "\n",
    "class State(TypedDict):\n",
    "    messages: Annotated[list, add_messages]\n",
    "\n",
    "graph_builder = StateGraph(State)\n",
    "\n",
    "llm = ChatOpenAI(model=\"gpt-4o-mini\")\n",
    "# modification -> tell the LLM which tools it can call\n",
    "llm_with_tools = llm.bind_tools(tools)\n",
    "\n",
    "def chatbot(state: State):\n",
    "    return {\"messages\": [llm_with_tools.invoke(state[\"messages\"])]}\n",
    "\n",
    "graph_builder.add_node(\"chatbot\", chatbot)"
   ]
  },
  {
   "cell_type": "code",
   "execution_count": 11,
   "metadata": {},
   "outputs": [
    {
     "data": {
      "text/plain": [
       "<langgraph.graph.state.StateGraph at 0x127f2dbb0>"
      ]
     },
     "execution_count": 11,
     "metadata": {},
     "output_type": "execute_result"
    }
   ],
   "source": [
    "# create a function to actually run the tools if they are called\n",
    "import json\n",
    "from langchain_core.messages import ToolMessage\n",
    "\n",
    "class BasicToolNode:\n",
    "    \"\"\"A node that runs the tools requested in the last AIMessage.\"\"\"\n",
    "\n",
    "    def __init__(self, tools: list) -> None:\n",
    "        self.tools_by_name = {tool.name: tool for tool in tools}\n",
    "    \n",
    "    def __call__(self, inputs: dict):\n",
    "        if messages := inputs.get(\"messages\", []):\n",
    "            message = messages[-1]\n",
    "        else:\n",
    "            raise ValueError(\"No message found in input\")\n",
    "        outputs = []\n",
    "        for tool_call in message.tool_calls:\n",
    "            tool_result = self.tools_by_name[tool_call[\"name\"]].invoke(tool_call[\"args\"])\n",
    "            outputs.append(\n",
    "                ToolMessage(\n",
    "                    content=json.dumps(tool_result),\n",
    "                    name = tool_call[\"name\"],\n",
    "                    tool_call_id = tool_call[\"id\"]\n",
    "                )\n",
    "            )\n",
    "        return {\"messages\": outputs}\n",
    "    \n",
    "tool_node = BasicToolNode(tools=[tool])\n",
    "graph_builder.add_node(\"tools\", tool_node)"
   ]
  },
  {
   "cell_type": "code",
   "execution_count": null,
   "metadata": {},
   "outputs": [],
   "source": []
  }
 ],
 "metadata": {
  "kernelspec": {
   "display_name": "venv",
   "language": "python",
   "name": "python3"
  },
  "language_info": {
   "codemirror_mode": {
    "name": "ipython",
    "version": 3
   },
   "file_extension": ".py",
   "mimetype": "text/x-python",
   "name": "python",
   "nbconvert_exporter": "python",
   "pygments_lexer": "ipython3",
   "version": "3.12.0"
  }
 },
 "nbformat": 4,
 "nbformat_minor": 2
}

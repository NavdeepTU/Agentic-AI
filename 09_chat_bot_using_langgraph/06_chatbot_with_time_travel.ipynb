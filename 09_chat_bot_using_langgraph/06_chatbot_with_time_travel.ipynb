{
 "cells": [
  {
   "cell_type": "code",
   "execution_count": 1,
   "metadata": {},
   "outputs": [],
   "source": [
    "# you will \"rewind\" your graph by fetching a checkpoint using \n",
    "# the graph's get_state_history method. We can then resume \n",
    "# execution at this previous point in time.\n",
    "\n",
    "from typing import Annotated\n",
    "\n",
    "from langchain_openai import ChatOpenAI\n",
    "from langchain_community.tools.tavily_search import TavilySearchResults\n",
    "from langchain_core.messages import BaseMessage\n",
    "from typing_extensions import TypedDict\n",
    "\n",
    "from langgraph.checkpoint.memory import MemorySaver\n",
    "from langgraph.graph import StateGraph, START, END\n",
    "from langgraph.graph.message import add_messages\n",
    "from langgraph.prebuilt import ToolNode, tools_condition\n",
    "\n",
    "from dotenv import load_dotenv\n",
    "load_dotenv()\n",
    "\n",
    "class State(TypedDict):\n",
    "    messages: Annotated[list, add_messages]\n",
    "\n",
    "graph_builder = StateGraph(State)\n",
    "\n",
    "tool = TavilySearchResults(max_results=2)\n",
    "tools = [tool]\n",
    "llm = ChatOpenAI(model=\"gpt-4o-mini\")\n",
    "llm_with_tools = llm.bind_tools(tools)\n",
    "\n",
    "def chatbot(state: State):\n",
    "    return {\"messages\": [llm_with_tools.invoke(state[\"messages\"])]}\n",
    "\n",
    "graph_builder.add_node(\"chatbot\", chatbot)\n",
    "\n",
    "tool_node = ToolNode(tools=[tool])\n",
    "graph_builder.add_node(\"tools\", tool_node)\n",
    "\n",
    "graph_builder.add_conditional_edges(\n",
    "    \"chatbot\",\n",
    "    tools_condition,\n",
    ")\n",
    "graph_builder.add_edge(\"tools\", \"chatbot\")\n",
    "graph_builder.add_edge(START, \"chatbot\")\n",
    "\n",
    "memory = MemorySaver()\n",
    "graph = graph_builder.compile(checkpointer=memory)"
   ]
  },
  {
   "cell_type": "code",
   "execution_count": 2,
   "metadata": {},
   "outputs": [
    {
     "name": "stdout",
     "output_type": "stream",
     "text": [
      "================================\u001b[1m Human Message \u001b[0m=================================\n",
      "\n",
      "I'm learning LangGraph. Could you do some research on it for me?\n",
      "==================================\u001b[1m Ai Message \u001b[0m==================================\n",
      "Tool Calls:\n",
      "  tavily_search_results_json (call_kHZvVIExpbA02rn8LA56SDpk)\n",
      " Call ID: call_kHZvVIExpbA02rn8LA56SDpk\n",
      "  Args:\n",
      "    query: LangGraph tutorial documentation\n",
      "=================================\u001b[1m Tool Message \u001b[0m=================================\n",
      "Name: tavily_search_results_json\n",
      "\n",
      "[{\"url\": \"https://langchain-ai.github.io/langgraph/tutorials/introduction/\", \"content\": \"[](https://langchain-ai.github.io/langgraph/tutorials/introduction/#__codelineno-4-1)graph_builder.add_edge(START, \\\"chatbot\\\") [](https://langchain-ai.github.io/langgraph/tutorials/introduction/#__codelineno-17-33)graph_builder.add_node(\\\"tools\\\", tool_node) [](https://langchain-ai.github.io/langgraph/tutorials/introduction/#__codelineno-18-19)# The `tools_condition` function returns \\\"tools\\\" if the chatbot asks to use a tool, and \\\"END\\\" if [](https://langchain-ai.github.io/langgraph/tutorials/introduction/#__codelineno-18-32)graph_builder.add_edge(\\\"tools\\\", \\\"chatbot\\\") [](https://langchain-ai.github.io/langgraph/tutorials/introduction/#__codelineno-18-33)graph_builder.add_edge(START, \\\"chatbot\\\") [](https://langchain-ai.github.io/langgraph/tutorials/introduction/#__codelineno-21-34)LangGraph appears to be a significant tool in the evolving landscape of LLM-based application development, offering developers new ways to create more complex, stateful, and interactive AI systems. [](https://langchain-ai.github.io/langgraph/tutorials/introduction/#__codelineno-22-33)graph_builder.add_node(\\\"tools\\\", tool_node) [](https://langchain-ai.github.io/langgraph/tutorials/introduction/#__codelineno-22-40)graph_builder.add_edge(\\\"tools\\\", \\\"chatbot\\\") [](https://langchain-ai.github.io/langgraph/tutorials/introduction/#__codelineno-24-33)graph_builder.add_node(\\\"tools\\\", tool_node) [](https://langchain-ai.github.io/langgraph/tutorials/introduction/#__codelineno-24-40)graph_builder.add_edge(\\\"tools\\\", \\\"chatbot\\\") [](https://langchain-ai.github.io/langgraph/tutorials/introduction/#__codelineno-24-41)graph_builder.add_edge(START, \\\"chatbot\\\") [](https://langchain-ai.github.io/langgraph/tutorials/introduction/#__codelineno-38-34)graph_builder.add_node(\\\"tools\\\", tool_node) [](https://langchain-ai.github.io/langgraph/tutorials/introduction/#__codelineno-38-40)graph_builder.add_edge(\\\"tools\\\", \\\"chatbot\\\") [](https://langchain-ai.github.io/langgraph/tutorials/introduction/#__codelineno-39-48)graph_builder.add_node(\\\"tools\\\", tool_node) [](https://langchain-ai.github.io/langgraph/tutorials/introduction/#__codelineno-39-54)graph_builder.add_edge(\\\"tools\\\", \\\"chatbot\\\") [](https://langchain-ai.github.io/langgraph/tutorials/introduction/#__codelineno-39-55)graph_builder.add_edge(START, \\\"chatbot\\\") [](https://langchain-ai.github.io/langgraph/tutorials/introduction/#__codelineno-49-44)graph_builder.add_node(\\\"tools\\\", tool_node) [](https://langchain-ai.github.io/langgraph/tutorials/introduction/#__codelineno-49-50)graph_builder.add_edge(\\\"tools\\\", \\\"chatbot\\\") [](https://langchain-ai.github.io/langgraph/tutorials/introduction/#__codelineno-49-51)graph_builder.add_edge(START, \\\"chatbot\\\") [](https://langchain-ai.github.io/langgraph/tutorials/introduction/#__codelineno-52-25)graph_builder.add_node(\\\"tools\\\", tool_node) [](https://langchain-ai.github.io/langgraph/tutorials/introduction/#__codelineno-52-31)graph_builder.add_edge(\\\"tools\\\", \\\"chatbot\\\") [](https://langchain-ai.github.io/langgraph/tutorials/introduction/#__codelineno-52-32)graph_builder.add_edge(START, \\\"chatbot\\\") [](https://langchain-ai.github.io/langgraph/tutorials/introduction/#__codelineno-53-3)    \\\"When you have the answer, use the human_assistance tool for review.\\\" [](https://langchain-ai.github.io/langgraph/tutorials/introduction/#__codelineno-63-68)graph_builder.add_node(\\\"tools\\\", tool_node) [](https://langchain-ai.github.io/langgraph/tutorials/introduction/#__codelineno-63-74)graph_builder.add_edge(\\\"tools\\\", \\\"chatbot\\\") [](https://langchain-ai.github.io/langgraph/tutorials/introduction/#__codelineno-63-75)graph_builder.add_edge(START, \\\"chatbot\\\") [](https://langchain-ai.github.io/langgraph/tutorials/introduction/#__codelineno-64-34)graph_builder.add_node(\\\"tools\\\", tool_node) [](https://langchain-ai.github.io/langgraph/tutorials/introduction/#__codelineno-64-40)graph_builder.add_edge(\\\"tools\\\", \\\"chatbot\\\") [](https://langchain-ai.github.io/langgraph/tutorials/introduction/#__codelineno-64-41)graph_builder.add_edge(START, \\\"chatbot\\\") [](https://langchain-ai.github.io/langgraph/tutorials/introduction/#__codelineno-74-24)   There are tutorials available that provide full code examples for building and running multi-tool agents.\"}, {\"url\": \"https://langchain-ai.github.io/langgraph/tutorials/\", \"content\": \"Skip to content Join us at Interrupt: The Agent AI Conference by LangChain on May 13 & 14 in San Francisco! Agent Architectures Prebuilt Agents LangGraph Academy Course Table of contents Agent Architectures Planning Agents LangGraph Platform 🧱 Read this material to get up and running building your first applications. LangGraph Quickstart: Build a chatbot that can use tools and keep track of conversation history. Implementation of: https://arxiv.org/abs/2403.14403 Implementation of https://arxiv.org/abs/2310.11511. Agent Architectures¶ Plan-and-Execute: Implement a basic planning and execution agent Reflection & Critique¶ Agent-based: Evaluate chatbots via simulated user interactions Add custom authentication and authorization to an existing LangGraph Platform deployment in the following three-part guide: Setting Up Custom Authentication: Implement OAuth2 authentication to authorize users on your deployment Made with Material for MkDocs Insiders\"}]\n",
      "==================================\u001b[1m Ai Message \u001b[0m==================================\n",
      "\n",
      "LangGraph is a powerful tool tailored for the development of Large Language Model (LLM)-based applications, enabling developers to create stateful and interactive AI systems. Here are key points about LangGraph and resources for further learning:\n",
      "\n",
      "1. **Overview**: \n",
      "   - LangGraph focuses on constructing complex interactions in AI applications, allowing for better management of conversation history and the integration of various tools within a chatbot interface.\n",
      "   - It's particularly useful for building multi-tool agents that enhance conversational capabilities by keeping track of dialogues and using different tool functionalities.\n",
      "\n",
      "2. **Getting Started**: \n",
      "   - There is a [Quickstart guide](https://langchain-ai.github.io/langgraph/tutorials/introduction/) that helps users build their first chatbot capable of utilizing tools and maintaining conversation history.\n",
      "   - Tutorials are provided to demonstrate full code examples for building and running multi-tool agents.\n",
      "\n",
      "3. **Learning Resources**:\n",
      "   - A comprehensive collection of tutorials is available, including implementations of various agent architectures and specific tools like [LangGraph Academy Course](https://langchain-ai.github.io/langgraph/tutorials/). This includes planning agents, evaluating chatbots through simulated interactions, and how to implement custom authentication.\n",
      "\n",
      "4. **Agent Architectures**:\n",
      "   - Various architectures can be implemented, including plan-and-execute types, making LangGraph a flexible option based on the specific requirements of your project.\n",
      "\n",
      "5. **Community and Events**:\n",
      "   - LangGraph is actively involved with the AI development community, hosting events such as the \"Agent AI Conference\" aimed at fostering collaboration and learning among developers.\n",
      "\n",
      "For in-depth details, check out the [LangGraph documentation](https://langchain-ai.github.io/langgraph/tutorials/). This will provide you with specific examples, use cases, and best practices to effectively utilize LangGraph in your projects.\n"
     ]
    }
   ],
   "source": [
    "config = {\"configurable\": {\"thread_id\": \"1\"}}\n",
    "events = graph.stream(\n",
    "    {\n",
    "        \"messages\": [\n",
    "            {\n",
    "                \"role\": \"user\",\n",
    "                \"content\": (\n",
    "                    \"I'm learning LangGraph. \"\n",
    "                    \"Could you do some research on it for me?\"\n",
    "                )\n",
    "            }\n",
    "        ]\n",
    "    },\n",
    "    config,\n",
    "    stream_mode=\"values\"\n",
    ")\n",
    "for event in events:\n",
    "    if \"messages\" in event:\n",
    "        event[\"messages\"][-1].pretty_print()"
   ]
  },
  {
   "cell_type": "code",
   "execution_count": 3,
   "metadata": {},
   "outputs": [
    {
     "name": "stdout",
     "output_type": "stream",
     "text": [
      "================================\u001b[1m Human Message \u001b[0m=================================\n",
      "\n",
      "Ya that's helpful. Maybe I'll build an autonomous agent with it!\n",
      "==================================\u001b[1m Ai Message \u001b[0m==================================\n",
      "\n",
      "That sounds like an exciting project! Building an autonomous agent with LangGraph can allow you to explore various functionalities and create a system that interacts intelligently with users or other systems. Here are a few tips to help you get started:\n",
      "\n",
      "1. **Define the Purpose**: Determine what you want your agent to accomplish. Whether it's answering questions, providing recommendations, or assisting with tasks, having a clear goal will guide your design.\n",
      "\n",
      "2. **Utilize Multi-Tool Capabilities**: Leverage LangGraph's ability to integrate various tools. Think about what external services or APIs your agent might need to use.\n",
      "\n",
      "3. **Handling Conversations**: Implement a strategy for managing conversation history, allowing your agent to maintain context over interactions. This ensures it can follow up on previous topics or continue discussions meaningfully.\n",
      "\n",
      "4. **Experiment with Agent Architectures**: Explore different agent architectures available within LangGraph to find the most suitable one for your application. You can combine planning with execution for more advanced functionalities.\n",
      "\n",
      "5. **Test and Iterate**: Build a prototype and conduct thorough testing. Gather feedback to improve the functionality and performance of your agent.\n",
      "\n",
      "6. **Engage with the Community**: Join forums and discussions related to LangGraph and AI development. Engaging with the community can provide valuable insights and tips from fellow developers.\n",
      "\n",
      "If you need further assistance or specific ideas while developing your autonomous agent, feel free to ask! Good luck with your project!\n"
     ]
    }
   ],
   "source": [
    "events = graph.stream(\n",
    "    {\n",
    "        \"messages\": [\n",
    "            {\n",
    "                \"role\": \"user\",\n",
    "                \"content\": (\n",
    "                    \"Ya that's helpful. Maybe I'll \"\n",
    "                    \"build an autonomous agent with it!\"\n",
    "                ),\n",
    "            },\n",
    "        ],\n",
    "    },\n",
    "    config,\n",
    "    stream_mode=\"values\",\n",
    ")\n",
    "for event in events:\n",
    "    if \"messages\" in event:\n",
    "        event[\"messages\"][-1].pretty_print()"
   ]
  },
  {
   "cell_type": "code",
   "execution_count": 4,
   "metadata": {},
   "outputs": [
    {
     "name": "stdout",
     "output_type": "stream",
     "text": [
      "Num Messages:  6 Next:  ()\n",
      "--------------------------------------------------------------------------------\n",
      "Num Messages:  5 Next:  ('chatbot',)\n",
      "--------------------------------------------------------------------------------\n",
      "Num Messages:  4 Next:  ('__start__',)\n",
      "--------------------------------------------------------------------------------\n",
      "Num Messages:  4 Next:  ()\n",
      "--------------------------------------------------------------------------------\n",
      "Num Messages:  3 Next:  ('chatbot',)\n",
      "--------------------------------------------------------------------------------\n",
      "Num Messages:  2 Next:  ('tools',)\n",
      "--------------------------------------------------------------------------------\n",
      "Num Messages:  1 Next:  ('chatbot',)\n",
      "--------------------------------------------------------------------------------\n",
      "Num Messages:  0 Next:  ('__start__',)\n",
      "--------------------------------------------------------------------------------\n"
     ]
    }
   ],
   "source": [
    "# we can replay the full state history to see everything \n",
    "# that occurred.\n",
    "to_replay = None\n",
    "for state in graph.get_state_history(config):\n",
    "    print(\"Num Messages: \", len(state.values[\"messages\"]), \"Next: \", state.next)\n",
    "    print(\"-\" * 80)\n",
    "    if len(state.values[\"messages\"]) == 6:\n",
    "        # We are somewhat arbitrarily selecting a specific state based on the number of chat messages in the state.\n",
    "        to_replay = state"
   ]
  },
  {
   "cell_type": "code",
   "execution_count": 5,
   "metadata": {},
   "outputs": [
    {
     "name": "stdout",
     "output_type": "stream",
     "text": [
      "()\n",
      "{'configurable': {'thread_id': '1', 'checkpoint_ns': '', 'checkpoint_id': '1effa624-5b0d-60d6-8006-8d144d40fee2'}}\n"
     ]
    }
   ],
   "source": [
    "# We've picked out to_replay as a state to resume from.\n",
    "print(to_replay.next)\n",
    "print(to_replay.config)"
   ]
  },
  {
   "cell_type": "code",
   "execution_count": 6,
   "metadata": {},
   "outputs": [
    {
     "name": "stdout",
     "output_type": "stream",
     "text": [
      "==================================\u001b[1m Ai Message \u001b[0m==================================\n",
      "\n",
      "That sounds like an exciting project! Building an autonomous agent with LangGraph can allow you to explore various functionalities and create a system that interacts intelligently with users or other systems. Here are a few tips to help you get started:\n",
      "\n",
      "1. **Define the Purpose**: Determine what you want your agent to accomplish. Whether it's answering questions, providing recommendations, or assisting with tasks, having a clear goal will guide your design.\n",
      "\n",
      "2. **Utilize Multi-Tool Capabilities**: Leverage LangGraph's ability to integrate various tools. Think about what external services or APIs your agent might need to use.\n",
      "\n",
      "3. **Handling Conversations**: Implement a strategy for managing conversation history, allowing your agent to maintain context over interactions. This ensures it can follow up on previous topics or continue discussions meaningfully.\n",
      "\n",
      "4. **Experiment with Agent Architectures**: Explore different agent architectures available within LangGraph to find the most suitable one for your application. You can combine planning with execution for more advanced functionalities.\n",
      "\n",
      "5. **Test and Iterate**: Build a prototype and conduct thorough testing. Gather feedback to improve the functionality and performance of your agent.\n",
      "\n",
      "6. **Engage with the Community**: Join forums and discussions related to LangGraph and AI development. Engaging with the community can provide valuable insights and tips from fellow developers.\n",
      "\n",
      "If you need further assistance or specific ideas while developing your autonomous agent, feel free to ask! Good luck with your project!\n"
     ]
    }
   ],
   "source": [
    "# Providing this checkpoint_id value tells LangGraph's \n",
    "# checkpointer to load the state from that moment in time.\n",
    "\n",
    "# # The `checkpoint_id` in the `to_replay.config` corresponds \n",
    "# to a state we've persisted to our checkpointer.\n",
    "\n",
    "for event in graph.stream(None, to_replay.config, stream_mode=\"values\"):\n",
    "    if \"messages\" in event:\n",
    "        event[\"messages\"][-1].pretty_print()"
   ]
  },
  {
   "cell_type": "code",
   "execution_count": null,
   "metadata": {},
   "outputs": [],
   "source": []
  }
 ],
 "metadata": {
  "kernelspec": {
   "display_name": "venv",
   "language": "python",
   "name": "python3"
  },
  "language_info": {
   "codemirror_mode": {
    "name": "ipython",
    "version": 3
   },
   "file_extension": ".py",
   "mimetype": "text/x-python",
   "name": "python",
   "nbconvert_exporter": "python",
   "pygments_lexer": "ipython3",
   "version": "3.12.0"
  }
 },
 "nbformat": 4,
 "nbformat_minor": 2
}

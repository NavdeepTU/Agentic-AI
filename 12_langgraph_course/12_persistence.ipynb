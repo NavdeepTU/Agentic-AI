{
 "cells": [
  {
   "cell_type": "code",
   "execution_count": 13,
   "metadata": {},
   "outputs": [
    {
     "data": {
      "text/plain": [
       "True"
      ]
     },
     "execution_count": 13,
     "metadata": {},
     "output_type": "execute_result"
    }
   ],
   "source": [
    "from langgraph.graph import StateGraph, START, END\n",
    "from typing import TypedDict\n",
    "from langchain_openai import ChatOpenAI\n",
    "from dotenv import load_dotenv\n",
    "from langgraph.checkpoint.memory import InMemorySaver\n",
    "\n",
    "load_dotenv()"
   ]
  },
  {
   "cell_type": "code",
   "execution_count": 14,
   "metadata": {},
   "outputs": [],
   "source": [
    "llm = ChatOpenAI()"
   ]
  },
  {
   "cell_type": "code",
   "execution_count": 15,
   "metadata": {},
   "outputs": [],
   "source": [
    "class JokeState(TypedDict):\n",
    "\n",
    "    topic: str\n",
    "    joke: str\n",
    "    explanation: str"
   ]
  },
  {
   "cell_type": "code",
   "execution_count": 16,
   "metadata": {},
   "outputs": [],
   "source": [
    "def generate_joke(state: JokeState):\n",
    "\n",
    "    prompt = f'generate a joke on the topic {state[\"topic\"]}'\n",
    "    response = llm.invoke(prompt).content\n",
    "\n",
    "    return {'joke': response}"
   ]
  },
  {
   "cell_type": "code",
   "execution_count": 17,
   "metadata": {},
   "outputs": [],
   "source": [
    "def generate_explanation(state: JokeState):\n",
    "\n",
    "    prompt = f'write an explanation for the joke - {state[\"joke\"]}'\n",
    "    response = llm.invoke(prompt).content\n",
    "\n",
    "    return {'explanation': response}"
   ]
  },
  {
   "cell_type": "code",
   "execution_count": 18,
   "metadata": {},
   "outputs": [],
   "source": [
    "graph = StateGraph(JokeState)\n",
    "\n",
    "graph.add_node('generate_joke', generate_joke)\n",
    "graph.add_node('generate_explanation', generate_explanation)\n",
    "\n",
    "graph.add_edge(START, 'generate_joke')\n",
    "graph.add_edge('generate_joke', 'generate_explanation')\n",
    "graph.add_edge('generate_explanation', END)\n",
    "\n",
    "checkpointer = InMemorySaver()\n",
    "\n",
    "workflow = graph.compile(checkpointer=checkpointer)"
   ]
  },
  {
   "cell_type": "code",
   "execution_count": 20,
   "metadata": {},
   "outputs": [
    {
     "data": {
      "text/plain": [
       "{'topic': 'pizza',\n",
       " 'joke': 'Why did the pizza maker go to the psychiatrist? Because he was feeling a little saucy!',\n",
       " 'explanation': 'This joke plays on the word \"saucy,\" which can mean lively or bold in behavior, but also refers to the sauce on a pizza. The pizza maker went to the psychiatrist because he was feeling a little saucy, implying that he was feeling a bit bold or lively, but also referencing the literal sauce used on pizzas. It is a play on words that adds humor to the situation of someone seeking therapy for feeling a little out of sorts.'}"
      ]
     },
     "execution_count": 20,
     "metadata": {},
     "output_type": "execute_result"
    }
   ],
   "source": [
    "config1 = {\"configurable\": {\"thread_id\": \"1\"}}\n",
    "workflow.invoke({\"topic\": \"pizza\"}, config=config1)"
   ]
  },
  {
   "cell_type": "code",
   "execution_count": 21,
   "metadata": {},
   "outputs": [
    {
     "data": {
      "text/plain": [
       "StateSnapshot(values={'topic': 'pizza', 'joke': 'Why did the pizza maker go to the psychiatrist? Because he was feeling a little saucy!', 'explanation': 'This joke plays on the word \"saucy,\" which can mean lively or bold in behavior, but also refers to the sauce on a pizza. The pizza maker went to the psychiatrist because he was feeling a little saucy, implying that he was feeling a bit bold or lively, but also referencing the literal sauce used on pizzas. It is a play on words that adds humor to the situation of someone seeking therapy for feeling a little out of sorts.'}, next=(), config={'configurable': {'thread_id': '1', 'checkpoint_ns': '', 'checkpoint_id': '1f06e87b-d4a6-610e-8002-145caa6e6254'}}, metadata={'source': 'loop', 'step': 2, 'parents': {}, 'thread_id': '1'}, created_at='2025-08-01T03:29:32.389365+00:00', parent_config={'configurable': {'thread_id': '1', 'checkpoint_ns': '', 'checkpoint_id': '1f06e87b-c425-66fe-8001-bcfa2554eab0'}}, tasks=(), interrupts=())"
      ]
     },
     "execution_count": 21,
     "metadata": {},
     "output_type": "execute_result"
    }
   ],
   "source": [
    "workflow.get_state(config1)"
   ]
  },
  {
   "cell_type": "code",
   "execution_count": 22,
   "metadata": {},
   "outputs": [
    {
     "data": {
      "text/plain": [
       "[StateSnapshot(values={'topic': 'pizza', 'joke': 'Why did the pizza maker go to the psychiatrist? Because he was feeling a little saucy!', 'explanation': 'This joke plays on the word \"saucy,\" which can mean lively or bold in behavior, but also refers to the sauce on a pizza. The pizza maker went to the psychiatrist because he was feeling a little saucy, implying that he was feeling a bit bold or lively, but also referencing the literal sauce used on pizzas. It is a play on words that adds humor to the situation of someone seeking therapy for feeling a little out of sorts.'}, next=(), config={'configurable': {'thread_id': '1', 'checkpoint_ns': '', 'checkpoint_id': '1f06e87b-d4a6-610e-8002-145caa6e6254'}}, metadata={'source': 'loop', 'step': 2, 'parents': {}, 'thread_id': '1'}, created_at='2025-08-01T03:29:32.389365+00:00', parent_config={'configurable': {'thread_id': '1', 'checkpoint_ns': '', 'checkpoint_id': '1f06e87b-c425-66fe-8001-bcfa2554eab0'}}, tasks=(), interrupts=()),\n",
       " StateSnapshot(values={'topic': 'pizza', 'joke': 'Why did the pizza maker go to the psychiatrist? Because he was feeling a little saucy!'}, next=('generate_explanation',), config={'configurable': {'thread_id': '1', 'checkpoint_ns': '', 'checkpoint_id': '1f06e87b-c425-66fe-8001-bcfa2554eab0'}}, metadata={'source': 'loop', 'step': 1, 'parents': {}, 'thread_id': '1'}, created_at='2025-08-01T03:29:30.658959+00:00', parent_config={'configurable': {'thread_id': '1', 'checkpoint_ns': '', 'checkpoint_id': '1f06e87b-b0db-676a-8000-0c2bbf18f697'}}, tasks=(PregelTask(id='4e7a6317-4c16-f785-9cbe-da9247218339', name='generate_explanation', path=('__pregel_pull', 'generate_explanation'), error=None, interrupts=(), state=None, result={'explanation': 'This joke plays on the word \"saucy,\" which can mean lively or bold in behavior, but also refers to the sauce on a pizza. The pizza maker went to the psychiatrist because he was feeling a little saucy, implying that he was feeling a bit bold or lively, but also referencing the literal sauce used on pizzas. It is a play on words that adds humor to the situation of someone seeking therapy for feeling a little out of sorts.'}),), interrupts=()),\n",
       " StateSnapshot(values={'topic': 'pizza'}, next=('generate_joke',), config={'configurable': {'thread_id': '1', 'checkpoint_ns': '', 'checkpoint_id': '1f06e87b-b0db-676a-8000-0c2bbf18f697'}}, metadata={'source': 'loop', 'step': 0, 'parents': {}, 'thread_id': '1'}, created_at='2025-08-01T03:29:28.636388+00:00', parent_config={'configurable': {'thread_id': '1', 'checkpoint_ns': '', 'checkpoint_id': '1f06e87b-b0d4-6848-bfff-9410a96552eb'}}, tasks=(PregelTask(id='9aa56dbc-a9db-39c7-cc8d-41476502da87', name='generate_joke', path=('__pregel_pull', 'generate_joke'), error=None, interrupts=(), state=None, result={'joke': 'Why did the pizza maker go to the psychiatrist? Because he was feeling a little saucy!'}),), interrupts=()),\n",
       " StateSnapshot(values={}, next=('__start__',), config={'configurable': {'thread_id': '1', 'checkpoint_ns': '', 'checkpoint_id': '1f06e87b-b0d4-6848-bfff-9410a96552eb'}}, metadata={'source': 'input', 'step': -1, 'parents': {}, 'thread_id': '1'}, created_at='2025-08-01T03:29:28.633549+00:00', parent_config=None, tasks=(PregelTask(id='8c75b67b-6940-3836-2998-1a4b81bb642c', name='__start__', path=('__pregel_pull', '__start__'), error=None, interrupts=(), state=None, result={'topic': 'pizza'}),), interrupts=())]"
      ]
     },
     "execution_count": 22,
     "metadata": {},
     "output_type": "execute_result"
    }
   ],
   "source": [
    "list(workflow.get_state_history(config1)) # t get intermediate state values"
   ]
  },
  {
   "cell_type": "code",
   "execution_count": 23,
   "metadata": {},
   "outputs": [
    {
     "data": {
      "text/plain": [
       "{'topic': 'pasta',\n",
       " 'joke': 'Why did the spaghetti go to the party? Because it heard it was going to be a pasta-tively fun time!',\n",
       " 'explanation': 'This joke plays on wordplay and puns. The spaghetti went to the party because it heard it was going to be a \"pasta-tively\" fun time. The term \"pasta-tively\" is a play on \"positively\" and \"pasta,\" which is a type of food made from flour and water that the spaghetti is made of. The joke is meant to be light-hearted and to make people laugh at the silliness of a piece of spaghetti going to a party.'}"
      ]
     },
     "execution_count": 23,
     "metadata": {},
     "output_type": "execute_result"
    }
   ],
   "source": [
    "config2 = {\"configurable\": {\"thread_id\": \"2\"}}\n",
    "workflow.invoke({'topic':'pasta'}, config=config2)"
   ]
  },
  {
   "cell_type": "code",
   "execution_count": 24,
   "metadata": {},
   "outputs": [
    {
     "data": {
      "text/plain": [
       "StateSnapshot(values={'topic': 'pasta', 'joke': 'Why did the spaghetti go to the party? Because it heard it was going to be a pasta-tively fun time!', 'explanation': 'This joke plays on wordplay and puns. The spaghetti went to the party because it heard it was going to be a \"pasta-tively\" fun time. The term \"pasta-tively\" is a play on \"positively\" and \"pasta,\" which is a type of food made from flour and water that the spaghetti is made of. The joke is meant to be light-hearted and to make people laugh at the silliness of a piece of spaghetti going to a party.'}, next=(), config={'configurable': {'thread_id': '2', 'checkpoint_ns': '', 'checkpoint_id': '1f06e87c-2936-6ffc-8002-f34963ca0d1e'}}, metadata={'source': 'loop', 'step': 2, 'parents': {}, 'thread_id': '2'}, created_at='2025-08-01T03:29:41.256763+00:00', parent_config={'configurable': {'thread_id': '2', 'checkpoint_ns': '', 'checkpoint_id': '1f06e87c-1cdd-6bde-8001-19f04c8561d4'}}, tasks=(), interrupts=())"
      ]
     },
     "execution_count": 24,
     "metadata": {},
     "output_type": "execute_result"
    }
   ],
   "source": [
    "workflow.get_state(config2)"
   ]
  },
  {
   "cell_type": "code",
   "execution_count": 25,
   "metadata": {},
   "outputs": [
    {
     "data": {
      "text/plain": [
       "StateSnapshot(values={'topic': 'pizza', 'joke': 'Why did the pizza maker go to the psychiatrist? Because he was feeling a little saucy!', 'explanation': 'This joke plays on the word \"saucy,\" which can mean lively or bold in behavior, but also refers to the sauce on a pizza. The pizza maker went to the psychiatrist because he was feeling a little saucy, implying that he was feeling a bit bold or lively, but also referencing the literal sauce used on pizzas. It is a play on words that adds humor to the situation of someone seeking therapy for feeling a little out of sorts.'}, next=(), config={'configurable': {'thread_id': '1', 'checkpoint_ns': '', 'checkpoint_id': '1f06e87b-d4a6-610e-8002-145caa6e6254'}}, metadata={'source': 'loop', 'step': 2, 'parents': {}, 'thread_id': '1'}, created_at='2025-08-01T03:29:32.389365+00:00', parent_config={'configurable': {'thread_id': '1', 'checkpoint_ns': '', 'checkpoint_id': '1f06e87b-c425-66fe-8001-bcfa2554eab0'}}, tasks=(), interrupts=())"
      ]
     },
     "execution_count": 25,
     "metadata": {},
     "output_type": "execute_result"
    }
   ],
   "source": [
    "workflow.get_state(config1)"
   ]
  },
  {
   "cell_type": "code",
   "execution_count": 26,
   "metadata": {},
   "outputs": [
    {
     "data": {
      "text/plain": [
       "[StateSnapshot(values={'topic': 'pasta', 'joke': 'Why did the spaghetti go to the party? Because it heard it was going to be a pasta-tively fun time!', 'explanation': 'This joke plays on wordplay and puns. The spaghetti went to the party because it heard it was going to be a \"pasta-tively\" fun time. The term \"pasta-tively\" is a play on \"positively\" and \"pasta,\" which is a type of food made from flour and water that the spaghetti is made of. The joke is meant to be light-hearted and to make people laugh at the silliness of a piece of spaghetti going to a party.'}, next=(), config={'configurable': {'thread_id': '2', 'checkpoint_ns': '', 'checkpoint_id': '1f06e87c-2936-6ffc-8002-f34963ca0d1e'}}, metadata={'source': 'loop', 'step': 2, 'parents': {}, 'thread_id': '2'}, created_at='2025-08-01T03:29:41.256763+00:00', parent_config={'configurable': {'thread_id': '2', 'checkpoint_ns': '', 'checkpoint_id': '1f06e87c-1cdd-6bde-8001-19f04c8561d4'}}, tasks=(), interrupts=()),\n",
       " StateSnapshot(values={'topic': 'pasta', 'joke': 'Why did the spaghetti go to the party? Because it heard it was going to be a pasta-tively fun time!'}, next=('generate_explanation',), config={'configurable': {'thread_id': '2', 'checkpoint_ns': '', 'checkpoint_id': '1f06e87c-1cdd-6bde-8001-19f04c8561d4'}}, metadata={'source': 'loop', 'step': 1, 'parents': {}, 'thread_id': '2'}, created_at='2025-08-01T03:29:39.961878+00:00', parent_config={'configurable': {'thread_id': '2', 'checkpoint_ns': '', 'checkpoint_id': '1f06e87c-11ae-6c4a-8000-6fcc1898f8ef'}}, tasks=(PregelTask(id='74bf0f6a-fcda-e0a5-f279-cc0d32612f50', name='generate_explanation', path=('__pregel_pull', 'generate_explanation'), error=None, interrupts=(), state=None, result={'explanation': 'This joke plays on wordplay and puns. The spaghetti went to the party because it heard it was going to be a \"pasta-tively\" fun time. The term \"pasta-tively\" is a play on \"positively\" and \"pasta,\" which is a type of food made from flour and water that the spaghetti is made of. The joke is meant to be light-hearted and to make people laugh at the silliness of a piece of spaghetti going to a party.'}),), interrupts=()),\n",
       " StateSnapshot(values={'topic': 'pasta'}, next=('generate_joke',), config={'configurable': {'thread_id': '2', 'checkpoint_ns': '', 'checkpoint_id': '1f06e87c-11ae-6c4a-8000-6fcc1898f8ef'}}, metadata={'source': 'loop', 'step': 0, 'parents': {}, 'thread_id': '2'}, created_at='2025-08-01T03:29:38.789275+00:00', parent_config={'configurable': {'thread_id': '2', 'checkpoint_ns': '', 'checkpoint_id': '1f06e87c-11ad-63e0-bfff-b00fe8dc716f'}}, tasks=(PregelTask(id='6e75447c-66f2-ebb2-97d2-fc4d279d0e73', name='generate_joke', path=('__pregel_pull', 'generate_joke'), error=None, interrupts=(), state=None, result={'joke': 'Why did the spaghetti go to the party? Because it heard it was going to be a pasta-tively fun time!'}),), interrupts=()),\n",
       " StateSnapshot(values={}, next=('__start__',), config={'configurable': {'thread_id': '2', 'checkpoint_ns': '', 'checkpoint_id': '1f06e87c-11ad-63e0-bfff-b00fe8dc716f'}}, metadata={'source': 'input', 'step': -1, 'parents': {}, 'thread_id': '2'}, created_at='2025-08-01T03:29:38.788652+00:00', parent_config=None, tasks=(PregelTask(id='bad4e9a8-22c0-9c81-9c4b-ecd39b219913', name='__start__', path=('__pregel_pull', '__start__'), error=None, interrupts=(), state=None, result={'topic': 'pasta'}),), interrupts=())]"
      ]
     },
     "execution_count": 26,
     "metadata": {},
     "output_type": "execute_result"
    }
   ],
   "source": [
    "list(workflow.get_state_history(config2))"
   ]
  },
  {
   "cell_type": "markdown",
   "metadata": {},
   "source": [
    "Fault Tolerence"
   ]
  },
  {
   "cell_type": "code",
   "execution_count": 42,
   "metadata": {},
   "outputs": [],
   "source": [
    "import time"
   ]
  },
  {
   "cell_type": "code",
   "execution_count": 43,
   "metadata": {},
   "outputs": [],
   "source": [
    "# 1. Define the state\n",
    "class CrashState(TypedDict):\n",
    "    input: str\n",
    "    step1: str\n",
    "    step2: str"
   ]
  },
  {
   "cell_type": "code",
   "execution_count": 44,
   "metadata": {},
   "outputs": [],
   "source": [
    "# 2. Define steps\n",
    "def step_1(state: CrashState) -> CrashState:\n",
    "    print(\"✅ Step 1 executed\")\n",
    "    return {\"step1\": \"done\", \"input\": state[\"input\"]}\n",
    "\n",
    "def step_2(state: CrashState) -> CrashState:\n",
    "    print(\"⏳ Step 2 hanging... now manually interrupt from the notebook toolbar (STOP button)\")\n",
    "    time.sleep(20)  # Simulate long-running hang\n",
    "    return {\"step2\": \"done\"}\n",
    "\n",
    "def step_3(state: CrashState) -> CrashState:\n",
    "    print(\"✅ Step 3 executed\")\n",
    "    return {\"done\": True}"
   ]
  },
  {
   "cell_type": "code",
   "execution_count": 45,
   "metadata": {},
   "outputs": [],
   "source": [
    "# 3. Build the graph\n",
    "builder = StateGraph(CrashState)\n",
    "builder.add_node(\"step_1\", step_1)\n",
    "builder.add_node(\"step_2\", step_2)\n",
    "builder.add_node(\"step_3\", step_3)\n",
    "\n",
    "builder.set_entry_point(\"step_1\")\n",
    "builder.add_edge(\"step_1\", \"step_2\")\n",
    "builder.add_edge(\"step_2\", \"step_3\")\n",
    "builder.add_edge(\"step_3\", END)\n",
    "\n",
    "checkpointer = InMemorySaver()\n",
    "graph = builder.compile(checkpointer=checkpointer)"
   ]
  },
  {
   "cell_type": "code",
   "execution_count": 46,
   "metadata": {},
   "outputs": [
    {
     "name": "stdout",
     "output_type": "stream",
     "text": [
      "▶️ Running graph: Please manually interrupt during Step 2...\n",
      "✅ Step 1 executed\n",
      "⏳ Step 2 hanging... now manually interrupt from the notebook toolbar (STOP button)\n",
      "❌ Kernel manually interrupted (crash simulated).\n"
     ]
    }
   ],
   "source": [
    "try:\n",
    "    print(\"▶️ Running graph: Please manually interrupt during Step 2...\")\n",
    "    graph.invoke({\"input\": \"start\"}, config={\"configurable\": {\"thread_id\": 'thread-1'}})\n",
    "except KeyboardInterrupt:\n",
    "    print(\"❌ Kernel manually interrupted (crash simulated).\")"
   ]
  },
  {
   "cell_type": "code",
   "execution_count": 47,
   "metadata": {},
   "outputs": [
    {
     "data": {
      "text/plain": [
       "[StateSnapshot(values={'input': 'start', 'step1': 'done'}, next=('step_2',), config={'configurable': {'thread_id': 'thread-1', 'checkpoint_ns': '', 'checkpoint_id': '1f06fa5f-2cdd-6b52-8001-b5b51e30154a'}}, metadata={'source': 'loop', 'step': 1, 'parents': {}, 'thread_id': 'thread-1'}, created_at='2025-08-02T13:38:18.234957+00:00', parent_config={'configurable': {'thread_id': 'thread-1', 'checkpoint_ns': '', 'checkpoint_id': '1f06fa5f-2cda-6498-8000-cd8c0146f22b'}}, tasks=(PregelTask(id='ce57976d-16a8-ee40-1da4-0913d748fd1a', name='step_2', path=('__pregel_pull', 'step_2'), error=None, interrupts=(), state=None, result=None),), interrupts=()),\n",
       " StateSnapshot(values={'input': 'start'}, next=('step_1',), config={'configurable': {'thread_id': 'thread-1', 'checkpoint_ns': '', 'checkpoint_id': '1f06fa5f-2cda-6498-8000-cd8c0146f22b'}}, metadata={'source': 'loop', 'step': 0, 'parents': {}, 'thread_id': 'thread-1'}, created_at='2025-08-02T13:38:18.233556+00:00', parent_config={'configurable': {'thread_id': 'thread-1', 'checkpoint_ns': '', 'checkpoint_id': '1f06fa5f-2cd6-6b2c-bfff-9336597183aa'}}, tasks=(PregelTask(id='97b0f081-ea4d-96f5-6b0a-3334ee2b3b09', name='step_1', path=('__pregel_pull', 'step_1'), error=None, interrupts=(), state=None, result={'step1': 'done', 'input': 'start'}),), interrupts=()),\n",
       " StateSnapshot(values={}, next=('__start__',), config={'configurable': {'thread_id': 'thread-1', 'checkpoint_ns': '', 'checkpoint_id': '1f06fa5f-2cd6-6b2c-bfff-9336597183aa'}}, metadata={'source': 'input', 'step': -1, 'parents': {}, 'thread_id': 'thread-1'}, created_at='2025-08-02T13:38:18.232090+00:00', parent_config=None, tasks=(PregelTask(id='6fc91dc9-a762-72e3-441f-61999ce59f7d', name='__start__', path=('__pregel_pull', '__start__'), error=None, interrupts=(), state=None, result={'input': 'start'}),), interrupts=())]"
      ]
     },
     "execution_count": 47,
     "metadata": {},
     "output_type": "execute_result"
    }
   ],
   "source": [
    "list(graph.get_state_history({\"configurable\": {\"thread_id\": 'thread-1'}}))"
   ]
  },
  {
   "cell_type": "code",
   "execution_count": 48,
   "metadata": {},
   "outputs": [
    {
     "name": "stdout",
     "output_type": "stream",
     "text": [
      "\n",
      "🔁 Re-running the graph to demonstrate fault tolerance...\n",
      "⏳ Step 2 hanging... now manually interrupt from the notebook toolbar (STOP button)\n",
      "✅ Step 3 executed\n",
      "\n",
      "✅ Final State: {'input': 'start', 'step1': 'done', 'step2': 'done'}\n"
     ]
    }
   ],
   "source": [
    "# 6. Re-run to show fault-tolerant resume\n",
    "print(\"\\n🔁 Re-running the graph to demonstrate fault tolerance...\")\n",
    "final_state = graph.invoke(None, config={\"configurable\": {\"thread_id\": 'thread-1'}})\n",
    "print(\"\\n✅ Final State:\", final_state)"
   ]
  },
  {
   "cell_type": "code",
   "execution_count": 49,
   "metadata": {},
   "outputs": [
    {
     "data": {
      "text/plain": [
       "[StateSnapshot(values={'input': 'start', 'step1': 'done', 'step2': 'done'}, next=(), config={'configurable': {'thread_id': 'thread-1', 'checkpoint_ns': '', 'checkpoint_id': '1f06fa60-a8fd-6b82-8003-c4d04f362ccb'}}, metadata={'source': 'loop', 'step': 3, 'parents': {}, 'thread_id': 'thread-1'}, created_at='2025-08-02T13:38:58.093928+00:00', parent_config={'configurable': {'thread_id': 'thread-1', 'checkpoint_ns': '', 'checkpoint_id': '1f06fa60-a8f8-6e16-8002-9d3e6522849d'}}, tasks=(), interrupts=()),\n",
       " StateSnapshot(values={'input': 'start', 'step1': 'done', 'step2': 'done'}, next=('step_3',), config={'configurable': {'thread_id': 'thread-1', 'checkpoint_ns': '', 'checkpoint_id': '1f06fa60-a8f8-6e16-8002-9d3e6522849d'}}, metadata={'source': 'loop', 'step': 2, 'parents': {}, 'thread_id': 'thread-1'}, created_at='2025-08-02T13:38:58.091917+00:00', parent_config={'configurable': {'thread_id': 'thread-1', 'checkpoint_ns': '', 'checkpoint_id': '1f06fa5f-2cdd-6b52-8001-b5b51e30154a'}}, tasks=(PregelTask(id='23e64cd6-219b-323b-05f1-f3e7a1b0ff94', name='step_3', path=('__pregel_pull', 'step_3'), error=None, interrupts=(), state=None, result={}),), interrupts=()),\n",
       " StateSnapshot(values={'input': 'start', 'step1': 'done'}, next=('step_2',), config={'configurable': {'thread_id': 'thread-1', 'checkpoint_ns': '', 'checkpoint_id': '1f06fa5f-2cdd-6b52-8001-b5b51e30154a'}}, metadata={'source': 'loop', 'step': 1, 'parents': {}, 'thread_id': 'thread-1'}, created_at='2025-08-02T13:38:18.234957+00:00', parent_config={'configurable': {'thread_id': 'thread-1', 'checkpoint_ns': '', 'checkpoint_id': '1f06fa5f-2cda-6498-8000-cd8c0146f22b'}}, tasks=(PregelTask(id='ce57976d-16a8-ee40-1da4-0913d748fd1a', name='step_2', path=('__pregel_pull', 'step_2'), error=None, interrupts=(), state=None, result={'step2': 'done'}),), interrupts=()),\n",
       " StateSnapshot(values={'input': 'start'}, next=('step_1',), config={'configurable': {'thread_id': 'thread-1', 'checkpoint_ns': '', 'checkpoint_id': '1f06fa5f-2cda-6498-8000-cd8c0146f22b'}}, metadata={'source': 'loop', 'step': 0, 'parents': {}, 'thread_id': 'thread-1'}, created_at='2025-08-02T13:38:18.233556+00:00', parent_config={'configurable': {'thread_id': 'thread-1', 'checkpoint_ns': '', 'checkpoint_id': '1f06fa5f-2cd6-6b2c-bfff-9336597183aa'}}, tasks=(PregelTask(id='97b0f081-ea4d-96f5-6b0a-3334ee2b3b09', name='step_1', path=('__pregel_pull', 'step_1'), error=None, interrupts=(), state=None, result={'step1': 'done', 'input': 'start'}),), interrupts=()),\n",
       " StateSnapshot(values={}, next=('__start__',), config={'configurable': {'thread_id': 'thread-1', 'checkpoint_ns': '', 'checkpoint_id': '1f06fa5f-2cd6-6b2c-bfff-9336597183aa'}}, metadata={'source': 'input', 'step': -1, 'parents': {}, 'thread_id': 'thread-1'}, created_at='2025-08-02T13:38:18.232090+00:00', parent_config=None, tasks=(PregelTask(id='6fc91dc9-a762-72e3-441f-61999ce59f7d', name='__start__', path=('__pregel_pull', '__start__'), error=None, interrupts=(), state=None, result={'input': 'start'}),), interrupts=())]"
      ]
     },
     "execution_count": 49,
     "metadata": {},
     "output_type": "execute_result"
    }
   ],
   "source": [
    "list(graph.get_state_history({\"configurable\": {\"thread_id\": 'thread-1'}}))"
   ]
  },
  {
   "cell_type": "markdown",
   "metadata": {},
   "source": [
    "Time Travel"
   ]
  },
  {
   "cell_type": "code",
   "execution_count": 51,
   "metadata": {},
   "outputs": [
    {
     "data": {
      "text/plain": [
       "[StateSnapshot(values={'topic': 'pizza', 'joke': 'Why did the pizza maker go to the psychiatrist? Because he was feeling a little saucy!', 'explanation': 'This joke plays on the word \"saucy,\" which can mean lively or bold in behavior, but also refers to the sauce on a pizza. The pizza maker went to the psychiatrist because he was feeling a little saucy, implying that he was feeling a bit bold or lively, but also referencing the literal sauce used on pizzas. It is a play on words that adds humor to the situation of someone seeking therapy for feeling a little out of sorts.'}, next=(), config={'configurable': {'thread_id': '1', 'checkpoint_ns': '', 'checkpoint_id': '1f06e87b-d4a6-610e-8002-145caa6e6254'}}, metadata={'source': 'loop', 'step': 2, 'parents': {}, 'thread_id': '1'}, created_at='2025-08-01T03:29:32.389365+00:00', parent_config={'configurable': {'thread_id': '1', 'checkpoint_ns': '', 'checkpoint_id': '1f06e87b-c425-66fe-8001-bcfa2554eab0'}}, tasks=(), interrupts=()),\n",
       " StateSnapshot(values={'topic': 'pizza', 'joke': 'Why did the pizza maker go to the psychiatrist? Because he was feeling a little saucy!'}, next=('generate_explanation',), config={'configurable': {'thread_id': '1', 'checkpoint_ns': '', 'checkpoint_id': '1f06e87b-c425-66fe-8001-bcfa2554eab0'}}, metadata={'source': 'loop', 'step': 1, 'parents': {}, 'thread_id': '1'}, created_at='2025-08-01T03:29:30.658959+00:00', parent_config={'configurable': {'thread_id': '1', 'checkpoint_ns': '', 'checkpoint_id': '1f06e87b-b0db-676a-8000-0c2bbf18f697'}}, tasks=(PregelTask(id='4e7a6317-4c16-f785-9cbe-da9247218339', name='generate_explanation', path=('__pregel_pull', 'generate_explanation'), error=None, interrupts=(), state=None, result={'explanation': 'This joke plays on the word \"saucy,\" which can mean lively or bold in behavior, but also refers to the sauce on a pizza. The pizza maker went to the psychiatrist because he was feeling a little saucy, implying that he was feeling a bit bold or lively, but also referencing the literal sauce used on pizzas. It is a play on words that adds humor to the situation of someone seeking therapy for feeling a little out of sorts.'}),), interrupts=()),\n",
       " StateSnapshot(values={'topic': 'pizza'}, next=('generate_joke',), config={'configurable': {'thread_id': '1', 'checkpoint_ns': '', 'checkpoint_id': '1f06e87b-b0db-676a-8000-0c2bbf18f697'}}, metadata={'source': 'loop', 'step': 0, 'parents': {}, 'thread_id': '1'}, created_at='2025-08-01T03:29:28.636388+00:00', parent_config={'configurable': {'thread_id': '1', 'checkpoint_ns': '', 'checkpoint_id': '1f06e87b-b0d4-6848-bfff-9410a96552eb'}}, tasks=(PregelTask(id='9aa56dbc-a9db-39c7-cc8d-41476502da87', name='generate_joke', path=('__pregel_pull', 'generate_joke'), error=None, interrupts=(), state=None, result={'joke': 'Why did the pizza maker go to the psychiatrist? Because he was feeling a little saucy!'}),), interrupts=()),\n",
       " StateSnapshot(values={}, next=('__start__',), config={'configurable': {'thread_id': '1', 'checkpoint_ns': '', 'checkpoint_id': '1f06e87b-b0d4-6848-bfff-9410a96552eb'}}, metadata={'source': 'input', 'step': -1, 'parents': {}, 'thread_id': '1'}, created_at='2025-08-01T03:29:28.633549+00:00', parent_config=None, tasks=(PregelTask(id='8c75b67b-6940-3836-2998-1a4b81bb642c', name='__start__', path=('__pregel_pull', '__start__'), error=None, interrupts=(), state=None, result={'topic': 'pizza'}),), interrupts=())]"
      ]
     },
     "execution_count": 51,
     "metadata": {},
     "output_type": "execute_result"
    }
   ],
   "source": [
    "list(workflow.get_state_history(config1))"
   ]
  },
  {
   "cell_type": "code",
   "execution_count": 52,
   "metadata": {},
   "outputs": [
    {
     "data": {
      "text/plain": [
       "StateSnapshot(values={'topic': 'pizza'}, next=('generate_joke',), config={'configurable': {'thread_id': '1', 'checkpoint_id': '1f06e87b-b0db-676a-8000-0c2bbf18f697'}}, metadata={'source': 'loop', 'step': 0, 'parents': {}, 'thread_id': '1'}, created_at='2025-08-01T03:29:28.636388+00:00', parent_config={'configurable': {'thread_id': '1', 'checkpoint_ns': '', 'checkpoint_id': '1f06e87b-b0d4-6848-bfff-9410a96552eb'}}, tasks=(PregelTask(id='9aa56dbc-a9db-39c7-cc8d-41476502da87', name='generate_joke', path=('__pregel_pull', 'generate_joke'), error=None, interrupts=(), state=None, result={'joke': 'Why did the pizza maker go to the psychiatrist? Because he was feeling a little saucy!'}),), interrupts=())"
      ]
     },
     "execution_count": 52,
     "metadata": {},
     "output_type": "execute_result"
    }
   ],
   "source": [
    "workflow.get_state({\"configurable\": {\"thread_id\": \"1\", \"checkpoint_id\": \"1f06e87b-b0db-676a-8000-0c2bbf18f697\"}})"
   ]
  },
  {
   "cell_type": "code",
   "execution_count": 53,
   "metadata": {},
   "outputs": [
    {
     "data": {
      "text/plain": [
       "{'topic': 'pizza',\n",
       " 'joke': 'Why did the pizza go to the party? Because it wanted to get a little \"topping!\"',\n",
       " 'explanation': 'This joke is humorous because it plays on the double meaning of the word \"topping.\" In the context of a pizza, \"topping\" refers to the ingredients added on top of the pizza, such as cheese, pepperoni, vegetables, etc. However, in the context of a party, \"topping\" can also refer to having a good time or being in high spirits. So, the joke suggests that the pizza went to the party to have a good time and get a little \"topping\" in both senses of the word.'}"
      ]
     },
     "execution_count": 53,
     "metadata": {},
     "output_type": "execute_result"
    }
   ],
   "source": [
    "workflow.invoke(None, {\"configurable\": {\"thread_id\": \"1\", \"checkpoint_id\": \"1f06e87b-b0db-676a-8000-0c2bbf18f697\"}})"
   ]
  },
  {
   "cell_type": "code",
   "execution_count": 54,
   "metadata": {},
   "outputs": [
    {
     "data": {
      "text/plain": [
       "[StateSnapshot(values={'topic': 'pizza', 'joke': 'Why did the pizza go to the party? Because it wanted to get a little \"topping!\"', 'explanation': 'This joke is humorous because it plays on the double meaning of the word \"topping.\" In the context of a pizza, \"topping\" refers to the ingredients added on top of the pizza, such as cheese, pepperoni, vegetables, etc. However, in the context of a party, \"topping\" can also refer to having a good time or being in high spirits. So, the joke suggests that the pizza went to the party to have a good time and get a little \"topping\" in both senses of the word.'}, next=(), config={'configurable': {'thread_id': '1', 'checkpoint_ns': '', 'checkpoint_id': '1f06fa7f-6ea5-6ccc-8002-ce287f3b644c'}}, metadata={'source': 'loop', 'step': 2, 'parents': {}, 'thread_id': '1'}, created_at='2025-08-02T13:52:44.126101+00:00', parent_config={'configurable': {'thread_id': '1', 'checkpoint_ns': '', 'checkpoint_id': '1f06fa7f-5a7d-6c4a-8001-b952dda4b3c7'}}, tasks=(), interrupts=()),\n",
       " StateSnapshot(values={'topic': 'pizza', 'joke': 'Why did the pizza go to the party? Because it wanted to get a little \"topping!\"'}, next=('generate_explanation',), config={'configurable': {'thread_id': '1', 'checkpoint_ns': '', 'checkpoint_id': '1f06fa7f-5a7d-6c4a-8001-b952dda4b3c7'}}, metadata={'source': 'loop', 'step': 1, 'parents': {}, 'thread_id': '1'}, created_at='2025-08-02T13:52:42.012561+00:00', parent_config={'configurable': {'thread_id': '1', 'checkpoint_ns': '', 'checkpoint_id': '1f06e87b-b0db-676a-8000-0c2bbf18f697'}}, tasks=(PregelTask(id='139138d1-0be8-48fc-5fb5-f2c2f10289f6', name='generate_explanation', path=('__pregel_pull', 'generate_explanation'), error=None, interrupts=(), state=None, result={'explanation': 'This joke is humorous because it plays on the double meaning of the word \"topping.\" In the context of a pizza, \"topping\" refers to the ingredients added on top of the pizza, such as cheese, pepperoni, vegetables, etc. However, in the context of a party, \"topping\" can also refer to having a good time or being in high spirits. So, the joke suggests that the pizza went to the party to have a good time and get a little \"topping\" in both senses of the word.'}),), interrupts=()),\n",
       " StateSnapshot(values={'topic': 'pizza', 'joke': 'Why did the pizza maker go to the psychiatrist? Because he was feeling a little saucy!', 'explanation': 'This joke plays on the word \"saucy,\" which can mean lively or bold in behavior, but also refers to the sauce on a pizza. The pizza maker went to the psychiatrist because he was feeling a little saucy, implying that he was feeling a bit bold or lively, but also referencing the literal sauce used on pizzas. It is a play on words that adds humor to the situation of someone seeking therapy for feeling a little out of sorts.'}, next=(), config={'configurable': {'thread_id': '1', 'checkpoint_ns': '', 'checkpoint_id': '1f06e87b-d4a6-610e-8002-145caa6e6254'}}, metadata={'source': 'loop', 'step': 2, 'parents': {}, 'thread_id': '1'}, created_at='2025-08-01T03:29:32.389365+00:00', parent_config={'configurable': {'thread_id': '1', 'checkpoint_ns': '', 'checkpoint_id': '1f06e87b-c425-66fe-8001-bcfa2554eab0'}}, tasks=(), interrupts=()),\n",
       " StateSnapshot(values={'topic': 'pizza', 'joke': 'Why did the pizza maker go to the psychiatrist? Because he was feeling a little saucy!'}, next=('generate_explanation',), config={'configurable': {'thread_id': '1', 'checkpoint_ns': '', 'checkpoint_id': '1f06e87b-c425-66fe-8001-bcfa2554eab0'}}, metadata={'source': 'loop', 'step': 1, 'parents': {}, 'thread_id': '1'}, created_at='2025-08-01T03:29:30.658959+00:00', parent_config={'configurable': {'thread_id': '1', 'checkpoint_ns': '', 'checkpoint_id': '1f06e87b-b0db-676a-8000-0c2bbf18f697'}}, tasks=(PregelTask(id='4e7a6317-4c16-f785-9cbe-da9247218339', name='generate_explanation', path=('__pregel_pull', 'generate_explanation'), error=None, interrupts=(), state=None, result={'explanation': 'This joke plays on the word \"saucy,\" which can mean lively or bold in behavior, but also refers to the sauce on a pizza. The pizza maker went to the psychiatrist because he was feeling a little saucy, implying that he was feeling a bit bold or lively, but also referencing the literal sauce used on pizzas. It is a play on words that adds humor to the situation of someone seeking therapy for feeling a little out of sorts.'}),), interrupts=()),\n",
       " StateSnapshot(values={'topic': 'pizza'}, next=('generate_joke',), config={'configurable': {'thread_id': '1', 'checkpoint_ns': '', 'checkpoint_id': '1f06e87b-b0db-676a-8000-0c2bbf18f697'}}, metadata={'source': 'loop', 'step': 0, 'parents': {}, 'thread_id': '1'}, created_at='2025-08-01T03:29:28.636388+00:00', parent_config={'configurable': {'thread_id': '1', 'checkpoint_ns': '', 'checkpoint_id': '1f06e87b-b0d4-6848-bfff-9410a96552eb'}}, tasks=(PregelTask(id='9aa56dbc-a9db-39c7-cc8d-41476502da87', name='generate_joke', path=('__pregel_pull', 'generate_joke'), error=None, interrupts=(), state=None, result={'joke': 'Why did the pizza maker go to the psychiatrist? Because he was feeling a little saucy!'}),), interrupts=()),\n",
       " StateSnapshot(values={}, next=('__start__',), config={'configurable': {'thread_id': '1', 'checkpoint_ns': '', 'checkpoint_id': '1f06e87b-b0d4-6848-bfff-9410a96552eb'}}, metadata={'source': 'input', 'step': -1, 'parents': {}, 'thread_id': '1'}, created_at='2025-08-01T03:29:28.633549+00:00', parent_config=None, tasks=(PregelTask(id='8c75b67b-6940-3836-2998-1a4b81bb642c', name='__start__', path=('__pregel_pull', '__start__'), error=None, interrupts=(), state=None, result={'topic': 'pizza'}),), interrupts=())]"
      ]
     },
     "execution_count": 54,
     "metadata": {},
     "output_type": "execute_result"
    }
   ],
   "source": [
    "list(workflow.get_state_history(config1)) # two more steps added because of time travel"
   ]
  },
  {
   "cell_type": "markdown",
   "metadata": {},
   "source": [
    "Updating State"
   ]
  },
  {
   "cell_type": "code",
   "execution_count": 55,
   "metadata": {},
   "outputs": [
    {
     "data": {
      "text/plain": [
       "{'configurable': {'thread_id': '1',\n",
       "  'checkpoint_ns': '',\n",
       "  'checkpoint_id': '1f06fa8c-b83f-6088-8001-b20f2af7e7a9'}}"
      ]
     },
     "execution_count": 55,
     "metadata": {},
     "output_type": "execute_result"
    }
   ],
   "source": [
    "workflow.update_state({\"configurable\": {\"thread_id\": \"1\", \"checkpoint_id\": \"1f06e87b-b0db-676a-8000-0c2bbf18f697\", \"checkpoint_ns\": \"\"}}, {\"topic\": \"samosa\"})"
   ]
  },
  {
   "cell_type": "code",
   "execution_count": 56,
   "metadata": {},
   "outputs": [
    {
     "data": {
      "text/plain": [
       "[StateSnapshot(values={'topic': 'samosa'}, next=('generate_joke',), config={'configurable': {'thread_id': '1', 'checkpoint_ns': '', 'checkpoint_id': '1f06fa8c-b83f-6088-8001-b20f2af7e7a9'}}, metadata={'source': 'update', 'step': 1, 'parents': {}, 'thread_id': '1'}, created_at='2025-08-02T13:58:40.809542+00:00', parent_config={'configurable': {'thread_id': '1', 'checkpoint_ns': '', 'checkpoint_id': '1f06e87b-b0db-676a-8000-0c2bbf18f697'}}, tasks=(PregelTask(id='ee6fdbb7-1a5f-94bb-643d-dc420b0b3651', name='generate_joke', path=('__pregel_pull', 'generate_joke'), error=None, interrupts=(), state=None, result=None),), interrupts=()),\n",
       " StateSnapshot(values={'topic': 'pizza', 'joke': 'Why did the pizza go to the party? Because it wanted to get a little \"topping!\"', 'explanation': 'This joke is humorous because it plays on the double meaning of the word \"topping.\" In the context of a pizza, \"topping\" refers to the ingredients added on top of the pizza, such as cheese, pepperoni, vegetables, etc. However, in the context of a party, \"topping\" can also refer to having a good time or being in high spirits. So, the joke suggests that the pizza went to the party to have a good time and get a little \"topping\" in both senses of the word.'}, next=(), config={'configurable': {'thread_id': '1', 'checkpoint_ns': '', 'checkpoint_id': '1f06fa7f-6ea5-6ccc-8002-ce287f3b644c'}}, metadata={'source': 'loop', 'step': 2, 'parents': {}, 'thread_id': '1'}, created_at='2025-08-02T13:52:44.126101+00:00', parent_config={'configurable': {'thread_id': '1', 'checkpoint_ns': '', 'checkpoint_id': '1f06fa7f-5a7d-6c4a-8001-b952dda4b3c7'}}, tasks=(), interrupts=()),\n",
       " StateSnapshot(values={'topic': 'pizza', 'joke': 'Why did the pizza go to the party? Because it wanted to get a little \"topping!\"'}, next=('generate_explanation',), config={'configurable': {'thread_id': '1', 'checkpoint_ns': '', 'checkpoint_id': '1f06fa7f-5a7d-6c4a-8001-b952dda4b3c7'}}, metadata={'source': 'loop', 'step': 1, 'parents': {}, 'thread_id': '1'}, created_at='2025-08-02T13:52:42.012561+00:00', parent_config={'configurable': {'thread_id': '1', 'checkpoint_ns': '', 'checkpoint_id': '1f06e87b-b0db-676a-8000-0c2bbf18f697'}}, tasks=(PregelTask(id='139138d1-0be8-48fc-5fb5-f2c2f10289f6', name='generate_explanation', path=('__pregel_pull', 'generate_explanation'), error=None, interrupts=(), state=None, result={'explanation': 'This joke is humorous because it plays on the double meaning of the word \"topping.\" In the context of a pizza, \"topping\" refers to the ingredients added on top of the pizza, such as cheese, pepperoni, vegetables, etc. However, in the context of a party, \"topping\" can also refer to having a good time or being in high spirits. So, the joke suggests that the pizza went to the party to have a good time and get a little \"topping\" in both senses of the word.'}),), interrupts=()),\n",
       " StateSnapshot(values={'topic': 'pizza', 'joke': 'Why did the pizza maker go to the psychiatrist? Because he was feeling a little saucy!', 'explanation': 'This joke plays on the word \"saucy,\" which can mean lively or bold in behavior, but also refers to the sauce on a pizza. The pizza maker went to the psychiatrist because he was feeling a little saucy, implying that he was feeling a bit bold or lively, but also referencing the literal sauce used on pizzas. It is a play on words that adds humor to the situation of someone seeking therapy for feeling a little out of sorts.'}, next=(), config={'configurable': {'thread_id': '1', 'checkpoint_ns': '', 'checkpoint_id': '1f06e87b-d4a6-610e-8002-145caa6e6254'}}, metadata={'source': 'loop', 'step': 2, 'parents': {}, 'thread_id': '1'}, created_at='2025-08-01T03:29:32.389365+00:00', parent_config={'configurable': {'thread_id': '1', 'checkpoint_ns': '', 'checkpoint_id': '1f06e87b-c425-66fe-8001-bcfa2554eab0'}}, tasks=(), interrupts=()),\n",
       " StateSnapshot(values={'topic': 'pizza', 'joke': 'Why did the pizza maker go to the psychiatrist? Because he was feeling a little saucy!'}, next=('generate_explanation',), config={'configurable': {'thread_id': '1', 'checkpoint_ns': '', 'checkpoint_id': '1f06e87b-c425-66fe-8001-bcfa2554eab0'}}, metadata={'source': 'loop', 'step': 1, 'parents': {}, 'thread_id': '1'}, created_at='2025-08-01T03:29:30.658959+00:00', parent_config={'configurable': {'thread_id': '1', 'checkpoint_ns': '', 'checkpoint_id': '1f06e87b-b0db-676a-8000-0c2bbf18f697'}}, tasks=(PregelTask(id='4e7a6317-4c16-f785-9cbe-da9247218339', name='generate_explanation', path=('__pregel_pull', 'generate_explanation'), error=None, interrupts=(), state=None, result={'explanation': 'This joke plays on the word \"saucy,\" which can mean lively or bold in behavior, but also refers to the sauce on a pizza. The pizza maker went to the psychiatrist because he was feeling a little saucy, implying that he was feeling a bit bold or lively, but also referencing the literal sauce used on pizzas. It is a play on words that adds humor to the situation of someone seeking therapy for feeling a little out of sorts.'}),), interrupts=()),\n",
       " StateSnapshot(values={'topic': 'pizza'}, next=('generate_joke',), config={'configurable': {'thread_id': '1', 'checkpoint_ns': '', 'checkpoint_id': '1f06e87b-b0db-676a-8000-0c2bbf18f697'}}, metadata={'source': 'loop', 'step': 0, 'parents': {}, 'thread_id': '1'}, created_at='2025-08-01T03:29:28.636388+00:00', parent_config={'configurable': {'thread_id': '1', 'checkpoint_ns': '', 'checkpoint_id': '1f06e87b-b0d4-6848-bfff-9410a96552eb'}}, tasks=(PregelTask(id='9aa56dbc-a9db-39c7-cc8d-41476502da87', name='generate_joke', path=('__pregel_pull', 'generate_joke'), error=None, interrupts=(), state=None, result={'joke': 'Why did the pizza maker go to the psychiatrist? Because he was feeling a little saucy!'}),), interrupts=()),\n",
       " StateSnapshot(values={}, next=('__start__',), config={'configurable': {'thread_id': '1', 'checkpoint_ns': '', 'checkpoint_id': '1f06e87b-b0d4-6848-bfff-9410a96552eb'}}, metadata={'source': 'input', 'step': -1, 'parents': {}, 'thread_id': '1'}, created_at='2025-08-01T03:29:28.633549+00:00', parent_config=None, tasks=(PregelTask(id='8c75b67b-6940-3836-2998-1a4b81bb642c', name='__start__', path=('__pregel_pull', '__start__'), error=None, interrupts=(), state=None, result={'topic': 'pizza'}),), interrupts=())]"
      ]
     },
     "execution_count": 56,
     "metadata": {},
     "output_type": "execute_result"
    }
   ],
   "source": [
    "list(workflow.get_state_history(config1))"
   ]
  },
  {
   "cell_type": "code",
   "execution_count": 57,
   "metadata": {},
   "outputs": [
    {
     "data": {
      "text/plain": [
       "{'topic': 'samosa',\n",
       " 'joke': 'Why did the samosa go to school? \\nTo get a little crispy education!',\n",
       " 'explanation': 'This joke plays on the double meaning of the word \"crispy.\" On one hand, samosas are a popular fried snack that are known for their crispy outer layer. On the other hand, the joke implies that the samosa went to school to get a \"crispy\" education, meaning a good or valuable education. The humor comes from the unexpected twist on the word \"crispy\" and the playful idea of a samosa attending school.'}"
      ]
     },
     "execution_count": 57,
     "metadata": {},
     "output_type": "execute_result"
    }
   ],
   "source": [
    "workflow.invoke(None, {\"configurable\": {\"thread_id\": \"1\", \"checkpoint_id\": \"1f06fa8c-b83f-6088-8001-b20f2af7e7a9\"}})"
   ]
  },
  {
   "cell_type": "code",
   "execution_count": 58,
   "metadata": {},
   "outputs": [
    {
     "data": {
      "text/plain": [
       "[StateSnapshot(values={'topic': 'samosa', 'joke': 'Why did the samosa go to school? \\nTo get a little crispy education!', 'explanation': 'This joke plays on the double meaning of the word \"crispy.\" On one hand, samosas are a popular fried snack that are known for their crispy outer layer. On the other hand, the joke implies that the samosa went to school to get a \"crispy\" education, meaning a good or valuable education. The humor comes from the unexpected twist on the word \"crispy\" and the playful idea of a samosa attending school.'}, next=(), config={'configurable': {'thread_id': '1', 'checkpoint_ns': '', 'checkpoint_id': '1f06fa97-12d1-67b2-8003-aa53faad07cd'}}, metadata={'source': 'loop', 'step': 3, 'parents': {}, 'thread_id': '1'}, created_at='2025-08-02T14:03:18.742103+00:00', parent_config={'configurable': {'thread_id': '1', 'checkpoint_ns': '', 'checkpoint_id': '1f06fa96-f7dc-6ca4-8002-0cc4db8e39d4'}}, tasks=(), interrupts=()),\n",
       " StateSnapshot(values={'topic': 'samosa', 'joke': 'Why did the samosa go to school? \\nTo get a little crispy education!'}, next=('generate_explanation',), config={'configurable': {'thread_id': '1', 'checkpoint_ns': '', 'checkpoint_id': '1f06fa96-f7dc-6ca4-8002-0cc4db8e39d4'}}, metadata={'source': 'loop', 'step': 2, 'parents': {}, 'thread_id': '1'}, created_at='2025-08-02T14:03:15.915658+00:00', parent_config={'configurable': {'thread_id': '1', 'checkpoint_ns': '', 'checkpoint_id': '1f06fa8c-b83f-6088-8001-b20f2af7e7a9'}}, tasks=(PregelTask(id='2a77e400-dc76-89fd-9da0-77308cb5c94b', name='generate_explanation', path=('__pregel_pull', 'generate_explanation'), error=None, interrupts=(), state=None, result={'explanation': 'This joke plays on the double meaning of the word \"crispy.\" On one hand, samosas are a popular fried snack that are known for their crispy outer layer. On the other hand, the joke implies that the samosa went to school to get a \"crispy\" education, meaning a good or valuable education. The humor comes from the unexpected twist on the word \"crispy\" and the playful idea of a samosa attending school.'}),), interrupts=()),\n",
       " StateSnapshot(values={'topic': 'samosa'}, next=('generate_joke',), config={'configurable': {'thread_id': '1', 'checkpoint_ns': '', 'checkpoint_id': '1f06fa8c-b83f-6088-8001-b20f2af7e7a9'}}, metadata={'source': 'update', 'step': 1, 'parents': {}, 'thread_id': '1'}, created_at='2025-08-02T13:58:40.809542+00:00', parent_config={'configurable': {'thread_id': '1', 'checkpoint_ns': '', 'checkpoint_id': '1f06e87b-b0db-676a-8000-0c2bbf18f697'}}, tasks=(PregelTask(id='ee6fdbb7-1a5f-94bb-643d-dc420b0b3651', name='generate_joke', path=('__pregel_pull', 'generate_joke'), error=None, interrupts=(), state=None, result={'joke': 'Why did the samosa go to school? \\nTo get a little crispy education!'}),), interrupts=()),\n",
       " StateSnapshot(values={'topic': 'pizza', 'joke': 'Why did the pizza go to the party? Because it wanted to get a little \"topping!\"', 'explanation': 'This joke is humorous because it plays on the double meaning of the word \"topping.\" In the context of a pizza, \"topping\" refers to the ingredients added on top of the pizza, such as cheese, pepperoni, vegetables, etc. However, in the context of a party, \"topping\" can also refer to having a good time or being in high spirits. So, the joke suggests that the pizza went to the party to have a good time and get a little \"topping\" in both senses of the word.'}, next=(), config={'configurable': {'thread_id': '1', 'checkpoint_ns': '', 'checkpoint_id': '1f06fa7f-6ea5-6ccc-8002-ce287f3b644c'}}, metadata={'source': 'loop', 'step': 2, 'parents': {}, 'thread_id': '1'}, created_at='2025-08-02T13:52:44.126101+00:00', parent_config={'configurable': {'thread_id': '1', 'checkpoint_ns': '', 'checkpoint_id': '1f06fa7f-5a7d-6c4a-8001-b952dda4b3c7'}}, tasks=(), interrupts=()),\n",
       " StateSnapshot(values={'topic': 'pizza', 'joke': 'Why did the pizza go to the party? Because it wanted to get a little \"topping!\"'}, next=('generate_explanation',), config={'configurable': {'thread_id': '1', 'checkpoint_ns': '', 'checkpoint_id': '1f06fa7f-5a7d-6c4a-8001-b952dda4b3c7'}}, metadata={'source': 'loop', 'step': 1, 'parents': {}, 'thread_id': '1'}, created_at='2025-08-02T13:52:42.012561+00:00', parent_config={'configurable': {'thread_id': '1', 'checkpoint_ns': '', 'checkpoint_id': '1f06e87b-b0db-676a-8000-0c2bbf18f697'}}, tasks=(PregelTask(id='139138d1-0be8-48fc-5fb5-f2c2f10289f6', name='generate_explanation', path=('__pregel_pull', 'generate_explanation'), error=None, interrupts=(), state=None, result={'explanation': 'This joke is humorous because it plays on the double meaning of the word \"topping.\" In the context of a pizza, \"topping\" refers to the ingredients added on top of the pizza, such as cheese, pepperoni, vegetables, etc. However, in the context of a party, \"topping\" can also refer to having a good time or being in high spirits. So, the joke suggests that the pizza went to the party to have a good time and get a little \"topping\" in both senses of the word.'}),), interrupts=()),\n",
       " StateSnapshot(values={'topic': 'pizza', 'joke': 'Why did the pizza maker go to the psychiatrist? Because he was feeling a little saucy!', 'explanation': 'This joke plays on the word \"saucy,\" which can mean lively or bold in behavior, but also refers to the sauce on a pizza. The pizza maker went to the psychiatrist because he was feeling a little saucy, implying that he was feeling a bit bold or lively, but also referencing the literal sauce used on pizzas. It is a play on words that adds humor to the situation of someone seeking therapy for feeling a little out of sorts.'}, next=(), config={'configurable': {'thread_id': '1', 'checkpoint_ns': '', 'checkpoint_id': '1f06e87b-d4a6-610e-8002-145caa6e6254'}}, metadata={'source': 'loop', 'step': 2, 'parents': {}, 'thread_id': '1'}, created_at='2025-08-01T03:29:32.389365+00:00', parent_config={'configurable': {'thread_id': '1', 'checkpoint_ns': '', 'checkpoint_id': '1f06e87b-c425-66fe-8001-bcfa2554eab0'}}, tasks=(), interrupts=()),\n",
       " StateSnapshot(values={'topic': 'pizza', 'joke': 'Why did the pizza maker go to the psychiatrist? Because he was feeling a little saucy!'}, next=('generate_explanation',), config={'configurable': {'thread_id': '1', 'checkpoint_ns': '', 'checkpoint_id': '1f06e87b-c425-66fe-8001-bcfa2554eab0'}}, metadata={'source': 'loop', 'step': 1, 'parents': {}, 'thread_id': '1'}, created_at='2025-08-01T03:29:30.658959+00:00', parent_config={'configurable': {'thread_id': '1', 'checkpoint_ns': '', 'checkpoint_id': '1f06e87b-b0db-676a-8000-0c2bbf18f697'}}, tasks=(PregelTask(id='4e7a6317-4c16-f785-9cbe-da9247218339', name='generate_explanation', path=('__pregel_pull', 'generate_explanation'), error=None, interrupts=(), state=None, result={'explanation': 'This joke plays on the word \"saucy,\" which can mean lively or bold in behavior, but also refers to the sauce on a pizza. The pizza maker went to the psychiatrist because he was feeling a little saucy, implying that he was feeling a bit bold or lively, but also referencing the literal sauce used on pizzas. It is a play on words that adds humor to the situation of someone seeking therapy for feeling a little out of sorts.'}),), interrupts=()),\n",
       " StateSnapshot(values={'topic': 'pizza'}, next=('generate_joke',), config={'configurable': {'thread_id': '1', 'checkpoint_ns': '', 'checkpoint_id': '1f06e87b-b0db-676a-8000-0c2bbf18f697'}}, metadata={'source': 'loop', 'step': 0, 'parents': {}, 'thread_id': '1'}, created_at='2025-08-01T03:29:28.636388+00:00', parent_config={'configurable': {'thread_id': '1', 'checkpoint_ns': '', 'checkpoint_id': '1f06e87b-b0d4-6848-bfff-9410a96552eb'}}, tasks=(PregelTask(id='9aa56dbc-a9db-39c7-cc8d-41476502da87', name='generate_joke', path=('__pregel_pull', 'generate_joke'), error=None, interrupts=(), state=None, result={'joke': 'Why did the pizza maker go to the psychiatrist? Because he was feeling a little saucy!'}),), interrupts=()),\n",
       " StateSnapshot(values={}, next=('__start__',), config={'configurable': {'thread_id': '1', 'checkpoint_ns': '', 'checkpoint_id': '1f06e87b-b0d4-6848-bfff-9410a96552eb'}}, metadata={'source': 'input', 'step': -1, 'parents': {}, 'thread_id': '1'}, created_at='2025-08-01T03:29:28.633549+00:00', parent_config=None, tasks=(PregelTask(id='8c75b67b-6940-3836-2998-1a4b81bb642c', name='__start__', path=('__pregel_pull', '__start__'), error=None, interrupts=(), state=None, result={'topic': 'pizza'}),), interrupts=())]"
      ]
     },
     "execution_count": 58,
     "metadata": {},
     "output_type": "execute_result"
    }
   ],
   "source": [
    "list(workflow.get_state_history(config1)) # 2 more steps added for samosa joke"
   ]
  },
  {
   "cell_type": "code",
   "execution_count": null,
   "metadata": {},
   "outputs": [],
   "source": []
  }
 ],
 "metadata": {
  "kernelspec": {
   "display_name": "venv",
   "language": "python",
   "name": "python3"
  },
  "language_info": {
   "codemirror_mode": {
    "name": "ipython",
    "version": 3
   },
   "file_extension": ".py",
   "mimetype": "text/x-python",
   "name": "python",
   "nbconvert_exporter": "python",
   "pygments_lexer": "ipython3",
   "version": "3.12.0"
  }
 },
 "nbformat": 4,
 "nbformat_minor": 2
}

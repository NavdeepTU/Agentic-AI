{
 "cells": [
  {
   "cell_type": "code",
   "execution_count": 13,
   "metadata": {},
   "outputs": [
    {
     "data": {
      "text/plain": [
       "True"
      ]
     },
     "execution_count": 13,
     "metadata": {},
     "output_type": "execute_result"
    }
   ],
   "source": [
    "from langgraph.graph import StateGraph, START, END\n",
    "from typing import TypedDict\n",
    "from langchain_openai import ChatOpenAI\n",
    "from dotenv import load_dotenv\n",
    "from langgraph.checkpoint.memory import InMemorySaver\n",
    "\n",
    "load_dotenv()"
   ]
  },
  {
   "cell_type": "code",
   "execution_count": 14,
   "metadata": {},
   "outputs": [],
   "source": [
    "llm = ChatOpenAI()"
   ]
  },
  {
   "cell_type": "code",
   "execution_count": 15,
   "metadata": {},
   "outputs": [],
   "source": [
    "class JokeState(TypedDict):\n",
    "\n",
    "    topic: str\n",
    "    joke: str\n",
    "    explanation: str"
   ]
  },
  {
   "cell_type": "code",
   "execution_count": 16,
   "metadata": {},
   "outputs": [],
   "source": [
    "def generate_joke(state: JokeState):\n",
    "\n",
    "    prompt = f'generate a joke on the topic {state[\"topic\"]}'\n",
    "    response = llm.invoke(prompt).content\n",
    "\n",
    "    return {'joke': response}"
   ]
  },
  {
   "cell_type": "code",
   "execution_count": 17,
   "metadata": {},
   "outputs": [],
   "source": [
    "def generate_explanation(state: JokeState):\n",
    "\n",
    "    prompt = f'write an explanation for the joke - {state[\"joke\"]}'\n",
    "    response = llm.invoke(prompt).content\n",
    "\n",
    "    return {'explanation': response}"
   ]
  },
  {
   "cell_type": "code",
   "execution_count": 18,
   "metadata": {},
   "outputs": [],
   "source": [
    "graph = StateGraph(JokeState)\n",
    "\n",
    "graph.add_node('generate_joke', generate_joke)\n",
    "graph.add_node('generate_explanation', generate_explanation)\n",
    "\n",
    "graph.add_edge(START, 'generate_joke')\n",
    "graph.add_edge('generate_joke', 'generate_explanation')\n",
    "graph.add_edge('generate_explanation', END)\n",
    "\n",
    "checkpointer = InMemorySaver()\n",
    "\n",
    "workflow = graph.compile(checkpointer=checkpointer)"
   ]
  },
  {
   "cell_type": "code",
   "execution_count": 20,
   "metadata": {},
   "outputs": [
    {
     "data": {
      "text/plain": [
       "{'topic': 'pizza',\n",
       " 'joke': 'Why did the pizza maker go to the psychiatrist? Because he was feeling a little saucy!',\n",
       " 'explanation': 'This joke plays on the word \"saucy,\" which can mean lively or bold in behavior, but also refers to the sauce on a pizza. The pizza maker went to the psychiatrist because he was feeling a little saucy, implying that he was feeling a bit bold or lively, but also referencing the literal sauce used on pizzas. It is a play on words that adds humor to the situation of someone seeking therapy for feeling a little out of sorts.'}"
      ]
     },
     "execution_count": 20,
     "metadata": {},
     "output_type": "execute_result"
    }
   ],
   "source": [
    "config1 = {\"configurable\": {\"thread_id\": \"1\"}}\n",
    "workflow.invoke({\"topic\": \"pizza\"}, config=config1)"
   ]
  },
  {
   "cell_type": "code",
   "execution_count": 21,
   "metadata": {},
   "outputs": [
    {
     "data": {
      "text/plain": [
       "StateSnapshot(values={'topic': 'pizza', 'joke': 'Why did the pizza maker go to the psychiatrist? Because he was feeling a little saucy!', 'explanation': 'This joke plays on the word \"saucy,\" which can mean lively or bold in behavior, but also refers to the sauce on a pizza. The pizza maker went to the psychiatrist because he was feeling a little saucy, implying that he was feeling a bit bold or lively, but also referencing the literal sauce used on pizzas. It is a play on words that adds humor to the situation of someone seeking therapy for feeling a little out of sorts.'}, next=(), config={'configurable': {'thread_id': '1', 'checkpoint_ns': '', 'checkpoint_id': '1f06e87b-d4a6-610e-8002-145caa6e6254'}}, metadata={'source': 'loop', 'step': 2, 'parents': {}, 'thread_id': '1'}, created_at='2025-08-01T03:29:32.389365+00:00', parent_config={'configurable': {'thread_id': '1', 'checkpoint_ns': '', 'checkpoint_id': '1f06e87b-c425-66fe-8001-bcfa2554eab0'}}, tasks=(), interrupts=())"
      ]
     },
     "execution_count": 21,
     "metadata": {},
     "output_type": "execute_result"
    }
   ],
   "source": [
    "workflow.get_state(config1)"
   ]
  },
  {
   "cell_type": "code",
   "execution_count": 22,
   "metadata": {},
   "outputs": [
    {
     "data": {
      "text/plain": [
       "[StateSnapshot(values={'topic': 'pizza', 'joke': 'Why did the pizza maker go to the psychiatrist? Because he was feeling a little saucy!', 'explanation': 'This joke plays on the word \"saucy,\" which can mean lively or bold in behavior, but also refers to the sauce on a pizza. The pizza maker went to the psychiatrist because he was feeling a little saucy, implying that he was feeling a bit bold or lively, but also referencing the literal sauce used on pizzas. It is a play on words that adds humor to the situation of someone seeking therapy for feeling a little out of sorts.'}, next=(), config={'configurable': {'thread_id': '1', 'checkpoint_ns': '', 'checkpoint_id': '1f06e87b-d4a6-610e-8002-145caa6e6254'}}, metadata={'source': 'loop', 'step': 2, 'parents': {}, 'thread_id': '1'}, created_at='2025-08-01T03:29:32.389365+00:00', parent_config={'configurable': {'thread_id': '1', 'checkpoint_ns': '', 'checkpoint_id': '1f06e87b-c425-66fe-8001-bcfa2554eab0'}}, tasks=(), interrupts=()),\n",
       " StateSnapshot(values={'topic': 'pizza', 'joke': 'Why did the pizza maker go to the psychiatrist? Because he was feeling a little saucy!'}, next=('generate_explanation',), config={'configurable': {'thread_id': '1', 'checkpoint_ns': '', 'checkpoint_id': '1f06e87b-c425-66fe-8001-bcfa2554eab0'}}, metadata={'source': 'loop', 'step': 1, 'parents': {}, 'thread_id': '1'}, created_at='2025-08-01T03:29:30.658959+00:00', parent_config={'configurable': {'thread_id': '1', 'checkpoint_ns': '', 'checkpoint_id': '1f06e87b-b0db-676a-8000-0c2bbf18f697'}}, tasks=(PregelTask(id='4e7a6317-4c16-f785-9cbe-da9247218339', name='generate_explanation', path=('__pregel_pull', 'generate_explanation'), error=None, interrupts=(), state=None, result={'explanation': 'This joke plays on the word \"saucy,\" which can mean lively or bold in behavior, but also refers to the sauce on a pizza. The pizza maker went to the psychiatrist because he was feeling a little saucy, implying that he was feeling a bit bold or lively, but also referencing the literal sauce used on pizzas. It is a play on words that adds humor to the situation of someone seeking therapy for feeling a little out of sorts.'}),), interrupts=()),\n",
       " StateSnapshot(values={'topic': 'pizza'}, next=('generate_joke',), config={'configurable': {'thread_id': '1', 'checkpoint_ns': '', 'checkpoint_id': '1f06e87b-b0db-676a-8000-0c2bbf18f697'}}, metadata={'source': 'loop', 'step': 0, 'parents': {}, 'thread_id': '1'}, created_at='2025-08-01T03:29:28.636388+00:00', parent_config={'configurable': {'thread_id': '1', 'checkpoint_ns': '', 'checkpoint_id': '1f06e87b-b0d4-6848-bfff-9410a96552eb'}}, tasks=(PregelTask(id='9aa56dbc-a9db-39c7-cc8d-41476502da87', name='generate_joke', path=('__pregel_pull', 'generate_joke'), error=None, interrupts=(), state=None, result={'joke': 'Why did the pizza maker go to the psychiatrist? Because he was feeling a little saucy!'}),), interrupts=()),\n",
       " StateSnapshot(values={}, next=('__start__',), config={'configurable': {'thread_id': '1', 'checkpoint_ns': '', 'checkpoint_id': '1f06e87b-b0d4-6848-bfff-9410a96552eb'}}, metadata={'source': 'input', 'step': -1, 'parents': {}, 'thread_id': '1'}, created_at='2025-08-01T03:29:28.633549+00:00', parent_config=None, tasks=(PregelTask(id='8c75b67b-6940-3836-2998-1a4b81bb642c', name='__start__', path=('__pregel_pull', '__start__'), error=None, interrupts=(), state=None, result={'topic': 'pizza'}),), interrupts=())]"
      ]
     },
     "execution_count": 22,
     "metadata": {},
     "output_type": "execute_result"
    }
   ],
   "source": [
    "list(workflow.get_state_history(config1)) # t get intermediate state values"
   ]
  },
  {
   "cell_type": "code",
   "execution_count": 23,
   "metadata": {},
   "outputs": [
    {
     "data": {
      "text/plain": [
       "{'topic': 'pasta',\n",
       " 'joke': 'Why did the spaghetti go to the party? Because it heard it was going to be a pasta-tively fun time!',\n",
       " 'explanation': 'This joke plays on wordplay and puns. The spaghetti went to the party because it heard it was going to be a \"pasta-tively\" fun time. The term \"pasta-tively\" is a play on \"positively\" and \"pasta,\" which is a type of food made from flour and water that the spaghetti is made of. The joke is meant to be light-hearted and to make people laugh at the silliness of a piece of spaghetti going to a party.'}"
      ]
     },
     "execution_count": 23,
     "metadata": {},
     "output_type": "execute_result"
    }
   ],
   "source": [
    "config2 = {\"configurable\": {\"thread_id\": \"2\"}}\n",
    "workflow.invoke({'topic':'pasta'}, config=config2)"
   ]
  },
  {
   "cell_type": "code",
   "execution_count": 24,
   "metadata": {},
   "outputs": [
    {
     "data": {
      "text/plain": [
       "StateSnapshot(values={'topic': 'pasta', 'joke': 'Why did the spaghetti go to the party? Because it heard it was going to be a pasta-tively fun time!', 'explanation': 'This joke plays on wordplay and puns. The spaghetti went to the party because it heard it was going to be a \"pasta-tively\" fun time. The term \"pasta-tively\" is a play on \"positively\" and \"pasta,\" which is a type of food made from flour and water that the spaghetti is made of. The joke is meant to be light-hearted and to make people laugh at the silliness of a piece of spaghetti going to a party.'}, next=(), config={'configurable': {'thread_id': '2', 'checkpoint_ns': '', 'checkpoint_id': '1f06e87c-2936-6ffc-8002-f34963ca0d1e'}}, metadata={'source': 'loop', 'step': 2, 'parents': {}, 'thread_id': '2'}, created_at='2025-08-01T03:29:41.256763+00:00', parent_config={'configurable': {'thread_id': '2', 'checkpoint_ns': '', 'checkpoint_id': '1f06e87c-1cdd-6bde-8001-19f04c8561d4'}}, tasks=(), interrupts=())"
      ]
     },
     "execution_count": 24,
     "metadata": {},
     "output_type": "execute_result"
    }
   ],
   "source": [
    "workflow.get_state(config2)"
   ]
  },
  {
   "cell_type": "code",
   "execution_count": 25,
   "metadata": {},
   "outputs": [
    {
     "data": {
      "text/plain": [
       "StateSnapshot(values={'topic': 'pizza', 'joke': 'Why did the pizza maker go to the psychiatrist? Because he was feeling a little saucy!', 'explanation': 'This joke plays on the word \"saucy,\" which can mean lively or bold in behavior, but also refers to the sauce on a pizza. The pizza maker went to the psychiatrist because he was feeling a little saucy, implying that he was feeling a bit bold or lively, but also referencing the literal sauce used on pizzas. It is a play on words that adds humor to the situation of someone seeking therapy for feeling a little out of sorts.'}, next=(), config={'configurable': {'thread_id': '1', 'checkpoint_ns': '', 'checkpoint_id': '1f06e87b-d4a6-610e-8002-145caa6e6254'}}, metadata={'source': 'loop', 'step': 2, 'parents': {}, 'thread_id': '1'}, created_at='2025-08-01T03:29:32.389365+00:00', parent_config={'configurable': {'thread_id': '1', 'checkpoint_ns': '', 'checkpoint_id': '1f06e87b-c425-66fe-8001-bcfa2554eab0'}}, tasks=(), interrupts=())"
      ]
     },
     "execution_count": 25,
     "metadata": {},
     "output_type": "execute_result"
    }
   ],
   "source": [
    "workflow.get_state(config1)"
   ]
  },
  {
   "cell_type": "code",
   "execution_count": 26,
   "metadata": {},
   "outputs": [
    {
     "data": {
      "text/plain": [
       "[StateSnapshot(values={'topic': 'pasta', 'joke': 'Why did the spaghetti go to the party? Because it heard it was going to be a pasta-tively fun time!', 'explanation': 'This joke plays on wordplay and puns. The spaghetti went to the party because it heard it was going to be a \"pasta-tively\" fun time. The term \"pasta-tively\" is a play on \"positively\" and \"pasta,\" which is a type of food made from flour and water that the spaghetti is made of. The joke is meant to be light-hearted and to make people laugh at the silliness of a piece of spaghetti going to a party.'}, next=(), config={'configurable': {'thread_id': '2', 'checkpoint_ns': '', 'checkpoint_id': '1f06e87c-2936-6ffc-8002-f34963ca0d1e'}}, metadata={'source': 'loop', 'step': 2, 'parents': {}, 'thread_id': '2'}, created_at='2025-08-01T03:29:41.256763+00:00', parent_config={'configurable': {'thread_id': '2', 'checkpoint_ns': '', 'checkpoint_id': '1f06e87c-1cdd-6bde-8001-19f04c8561d4'}}, tasks=(), interrupts=()),\n",
       " StateSnapshot(values={'topic': 'pasta', 'joke': 'Why did the spaghetti go to the party? Because it heard it was going to be a pasta-tively fun time!'}, next=('generate_explanation',), config={'configurable': {'thread_id': '2', 'checkpoint_ns': '', 'checkpoint_id': '1f06e87c-1cdd-6bde-8001-19f04c8561d4'}}, metadata={'source': 'loop', 'step': 1, 'parents': {}, 'thread_id': '2'}, created_at='2025-08-01T03:29:39.961878+00:00', parent_config={'configurable': {'thread_id': '2', 'checkpoint_ns': '', 'checkpoint_id': '1f06e87c-11ae-6c4a-8000-6fcc1898f8ef'}}, tasks=(PregelTask(id='74bf0f6a-fcda-e0a5-f279-cc0d32612f50', name='generate_explanation', path=('__pregel_pull', 'generate_explanation'), error=None, interrupts=(), state=None, result={'explanation': 'This joke plays on wordplay and puns. The spaghetti went to the party because it heard it was going to be a \"pasta-tively\" fun time. The term \"pasta-tively\" is a play on \"positively\" and \"pasta,\" which is a type of food made from flour and water that the spaghetti is made of. The joke is meant to be light-hearted and to make people laugh at the silliness of a piece of spaghetti going to a party.'}),), interrupts=()),\n",
       " StateSnapshot(values={'topic': 'pasta'}, next=('generate_joke',), config={'configurable': {'thread_id': '2', 'checkpoint_ns': '', 'checkpoint_id': '1f06e87c-11ae-6c4a-8000-6fcc1898f8ef'}}, metadata={'source': 'loop', 'step': 0, 'parents': {}, 'thread_id': '2'}, created_at='2025-08-01T03:29:38.789275+00:00', parent_config={'configurable': {'thread_id': '2', 'checkpoint_ns': '', 'checkpoint_id': '1f06e87c-11ad-63e0-bfff-b00fe8dc716f'}}, tasks=(PregelTask(id='6e75447c-66f2-ebb2-97d2-fc4d279d0e73', name='generate_joke', path=('__pregel_pull', 'generate_joke'), error=None, interrupts=(), state=None, result={'joke': 'Why did the spaghetti go to the party? Because it heard it was going to be a pasta-tively fun time!'}),), interrupts=()),\n",
       " StateSnapshot(values={}, next=('__start__',), config={'configurable': {'thread_id': '2', 'checkpoint_ns': '', 'checkpoint_id': '1f06e87c-11ad-63e0-bfff-b00fe8dc716f'}}, metadata={'source': 'input', 'step': -1, 'parents': {}, 'thread_id': '2'}, created_at='2025-08-01T03:29:38.788652+00:00', parent_config=None, tasks=(PregelTask(id='bad4e9a8-22c0-9c81-9c4b-ecd39b219913', name='__start__', path=('__pregel_pull', '__start__'), error=None, interrupts=(), state=None, result={'topic': 'pasta'}),), interrupts=())]"
      ]
     },
     "execution_count": 26,
     "metadata": {},
     "output_type": "execute_result"
    }
   ],
   "source": [
    "list(workflow.get_state_history(config2))"
   ]
  },
  {
   "cell_type": "code",
   "execution_count": null,
   "metadata": {},
   "outputs": [],
   "source": []
  }
 ],
 "metadata": {
  "kernelspec": {
   "display_name": "venv",
   "language": "python",
   "name": "python3"
  },
  "language_info": {
   "codemirror_mode": {
    "name": "ipython",
    "version": 3
   },
   "file_extension": ".py",
   "mimetype": "text/x-python",
   "name": "python",
   "nbconvert_exporter": "python",
   "pygments_lexer": "ipython3",
   "version": "3.12.0"
  }
 },
 "nbformat": 4,
 "nbformat_minor": 2
}

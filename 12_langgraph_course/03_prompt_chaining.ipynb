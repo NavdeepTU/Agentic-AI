{
 "cells": [
  {
   "cell_type": "code",
   "execution_count": 20,
   "metadata": {},
   "outputs": [
    {
     "data": {
      "text/plain": [
       "True"
      ]
     },
     "execution_count": 20,
     "metadata": {},
     "output_type": "execute_result"
    }
   ],
   "source": [
    "from langgraph.graph import StateGraph, START, END\n",
    "from langchain_openai import ChatOpenAI\n",
    "from typing import TypedDict\n",
    "from dotenv import load_dotenv\n",
    "\n",
    "load_dotenv()"
   ]
  },
  {
   "cell_type": "code",
   "execution_count": 21,
   "metadata": {},
   "outputs": [],
   "source": [
    "model = ChatOpenAI()"
   ]
  },
  {
   "cell_type": "code",
   "execution_count": 22,
   "metadata": {},
   "outputs": [],
   "source": [
    "class BlogState(TypedDict):\n",
    "\n",
    "    title: str\n",
    "    outline: str\n",
    "    content: str\n",
    "    evaluation_results: str"
   ]
  },
  {
   "cell_type": "code",
   "execution_count": 23,
   "metadata": {},
   "outputs": [],
   "source": [
    "def create_outline(state: BlogState) -> BlogState:\n",
    "\n",
    "    # fetch title\n",
    "    title = state[\"title\"]\n",
    "\n",
    "    # call llm gen outline\n",
    "    prompt = f\"Generate a detailed outline for a blog o the topic - {title}\"\n",
    "    outline = model.invoke(prompt).content\n",
    "\n",
    "    # update state\n",
    "    state[\"outline\"] = outline\n",
    "\n",
    "    return state"
   ]
  },
  {
   "cell_type": "code",
   "execution_count": 24,
   "metadata": {},
   "outputs": [],
   "source": [
    "def create_blog(state: BlogState) -> BlogState:\n",
    "\n",
    "    title = state[\"title\"]\n",
    "    outline = state[\"outline\"]\n",
    "\n",
    "    prompt = f\"Write a detailed blog on the title - {title} using the following outline \\n {outline}\"\n",
    "\n",
    "    content = model.invoke(prompt).content\n",
    "\n",
    "    state[\"content\"] = content\n",
    "\n",
    "    return state"
   ]
  },
  {
   "cell_type": "code",
   "execution_count": 25,
   "metadata": {},
   "outputs": [],
   "source": [
    "def evaluate_blog(state: BlogState) -> BlogState:\n",
    "\n",
    "    title = state[\"title\"]\n",
    "    content = state[\"content\"]\n",
    "\n",
    "    prompt = f\"Student has written a blog on title : {title},\\\n",
    "               Evaluate the blog based on below points and provide the feedback - \\\n",
    "               1. Depth of thinking while writing the blog.\\\n",
    "               2. Argument strength and critical thinking.\\\n",
    "               3. Check for gramatical errors, vocabulary, fluency and tone.\\\n",
    "               4. Access coherence, logical flow and clarity of thought.\\\n",
    "               Below is the blog written by the student\\n{content}\"\n",
    "    \n",
    "    evaluation_results = model.invoke(prompt).content\n",
    "\n",
    "    state[\"evaluation_results\"] = evaluation_results\n",
    "\n",
    "    return state\n"
   ]
  },
  {
   "cell_type": "code",
   "execution_count": 26,
   "metadata": {},
   "outputs": [],
   "source": [
    "graph = StateGraph(BlogState)\n",
    "\n",
    "# nodes\n",
    "graph.add_node(\"create_outline\", create_outline)\n",
    "graph.add_node(\"create_blog\", create_blog)\n",
    "graph.add_node(\"evaluate_blog\", evaluate_blog)\n",
    "\n",
    "# edges\n",
    "graph.add_edge(START, \"create_outline\")\n",
    "graph.add_edge(\"create_outline\", \"create_blog\")\n",
    "graph.add_edge(\"create_blog\", \"evaluate_blog\")\n",
    "graph.add_edge(\"evaluate_blog\", END)\n",
    "\n",
    "workflow = graph.compile()"
   ]
  },
  {
   "cell_type": "code",
   "execution_count": 27,
   "metadata": {},
   "outputs": [
    {
     "name": "stdout",
     "output_type": "stream",
     "text": [
      "{'title': 'Rise of AI in India.', 'outline': \"I. Introduction\\n    A. Overview of artificial intelligence\\n    B. Recap of AI advancements in India\\n    C. Thesis statement: The rise of AI in India has the potential to transform various industries and revolutionize the country's economic landscape.\\n\\nII. Historical background of AI in India\\n    A. Early adoption of AI technologies in India\\n    B. Government initiatives and policies to promote AI research\\n    C. Major milestones in AI development in India\\n\\nIII. Impact of AI on different industries in India\\n    A. Healthcare industry\\n        1. Applications of AI in healthcare\\n        2. Benefits of AI in improving healthcare outcomes\\n    B. Banking and finance industry\\n        1. AI-powered analytics in banking\\n        2. Fraud detection and risk management with AI\\n    C. E-commerce industry\\n        1. Personalized recommendations using AI algorithms\\n        2. AI chatbots for customer service in e-commerce platforms\\n\\nIV. Challenges and opportunities in the rise of AI in India\\n    A. Job displacement concerns\\n        1. Automation of repetitive tasks\\n        2. Reskilling and upskilling opportunities in AI-related fields\\n    B. Ethical considerations in AI development\\n        1. Bias and discrimination in AI algorithms\\n        2. Data privacy and security concerns\\n    C. Collaboration between government, industry, and academia to overcome challenges\\n        1. AI research and development partnerships\\n        2. Regulatory frameworks to ensure responsible AI deployment\\n\\nV. Future prospects of AI in India\\n    A. Potential for AI startups and innovation hubs\\n    B. Global competitiveness in AI research and development\\n    C. Opportunities for India to become a leading AI superpower\\n\\nVI. Conclusion\\n    A. Recap of key points discussed in the blog\\n    B. Summary of the impact of AI on India's economic growth\\n    C. Call to action for stakeholders to invest in AI research and development to harness its full potential in India.\", 'content': \"Artificial Intelligence (AI) has been making significant strides in India in recent years, with the potential to transform various industries and revolutionize the country's economic landscape. As a leading technology hub in the world, India has been at the forefront of AI advancements, with both government initiatives and private sector investments driving innovation in this space.\\n\\nHistorically, India has embraced AI technologies early on, with the government actively promoting research and development in the field. Major milestones in AI development in India include the establishment of research institutes and collaborations with leading global institutions to drive innovation. The country has also witnessed the rise of AI startups and innovation hubs, creating a conducive environment for AI growth.\\n\\nThe impact of AI on different industries in India has been profound. In the healthcare industry, AI applications have been utilized to improve healthcare outcomes through personalized treatment plans and early disease detection. In the banking and finance industry, AI-powered analytics have enabled better fraud detection and risk management, leading to improved efficiency and customer service. E-commerce platforms have also leveraged AI algorithms for personalized recommendations and AI chatbots for enhanced customer service.\\n\\nWhile the rise of AI presents numerous opportunities for economic growth and innovation in India, there are also challenges that need to be addressed. Job displacement concerns have been raised due to the automation of repetitive tasks, but there are opportunities for reskilling and upskilling in AI-related fields. Ethical considerations in AI development, such as bias and discrimination in algorithms and data privacy concerns, also need to be addressed through collaboration between government, industry, and academia.\\n\\nLooking towards the future, India has the potential to become a leading AI superpower, with opportunities for AI startups and innovation hubs to flourish. Global competitiveness in AI research and development can position India as a prominent player in the global AI landscape. However, continued investment in AI research and development is crucial to harness the full potential of AI in India.\\n\\nIn conclusion, the rise of AI in India has the potential to transform various industries and drive economic growth. It is imperative for stakeholders to invest in AI research and development to ensure responsible deployment and maximize the benefits of AI for the country. By fostering collaboration between government, industry, and academia, India can position itself as a leader in AI innovation and contribute to shaping the future of AI on a global scale.\", 'evaluation_results': \"Feedback:\\n1. Depth of thinking while writing the blog:\\nThe student has shown a good level of depth in their thinking while writing the blog. They have explored the impact of AI on various industries in India, as well as the challenges and opportunities that come with the rise of AI. The student has also discussed the government's role in promoting AI research and development in the country. However, more specific examples and case studies could have been included to further enhance the depth of the analysis.\\n\\n2. Argument strength and critical thinking:\\nThe arguments presented in the blog are strong and well-supported. The student has effectively highlighted the positive impacts of AI on different industries in India, while also acknowledging the challenges that need to be addressed. The student has shown critical thinking by discussing job displacement concerns and ethical considerations in AI development. Overall, the arguments presented are convincing and well-reasoned.\\n\\n3. Grammatical errors, vocabulary, fluency, and tone:\\nThe blog is well-written with minimal grammatical errors. The vocabulary used is appropriate and the student demonstrates a good level of fluency in their writing. The tone of the blog is professional and informative, which is suitable for the topic being discussed. However, some sentences could be rephrased to improve clarity and coherence.\\n\\n4. Coherence, logical flow, and clarity of thought:\\nThe blog has a logical flow and the ideas are connected well throughout the text. The student has structured the blog in a way that allows for easy understanding of the points being made. However, transitions between paragraphs could be improved to enhance coherence. Additionally, providing more specific examples and case studies could help to solidify the arguments and improve clarity of thought.\\n\\nOverall, the student has done a commendable job in writing about the rise of AI in India. With some adjustments to include more specific examples and refine the coherence and logical flow of the blog, the student can further enhance the depth and quality of their writing.\"}\n"
     ]
    }
   ],
   "source": [
    "initial_state = {\"title\": \"Rise of AI in India.\"}\n",
    "\n",
    "final_state = workflow.invoke(initial_state)\n",
    "\n",
    "print(final_state)"
   ]
  },
  {
   "cell_type": "code",
   "execution_count": 28,
   "metadata": {},
   "outputs": [
    {
     "name": "stdout",
     "output_type": "stream",
     "text": [
      "I. Introduction\n",
      "    A. Overview of artificial intelligence\n",
      "    B. Recap of AI advancements in India\n",
      "    C. Thesis statement: The rise of AI in India has the potential to transform various industries and revolutionize the country's economic landscape.\n",
      "\n",
      "II. Historical background of AI in India\n",
      "    A. Early adoption of AI technologies in India\n",
      "    B. Government initiatives and policies to promote AI research\n",
      "    C. Major milestones in AI development in India\n",
      "\n",
      "III. Impact of AI on different industries in India\n",
      "    A. Healthcare industry\n",
      "        1. Applications of AI in healthcare\n",
      "        2. Benefits of AI in improving healthcare outcomes\n",
      "    B. Banking and finance industry\n",
      "        1. AI-powered analytics in banking\n",
      "        2. Fraud detection and risk management with AI\n",
      "    C. E-commerce industry\n",
      "        1. Personalized recommendations using AI algorithms\n",
      "        2. AI chatbots for customer service in e-commerce platforms\n",
      "\n",
      "IV. Challenges and opportunities in the rise of AI in India\n",
      "    A. Job displacement concerns\n",
      "        1. Automation of repetitive tasks\n",
      "        2. Reskilling and upskilling opportunities in AI-related fields\n",
      "    B. Ethical considerations in AI development\n",
      "        1. Bias and discrimination in AI algorithms\n",
      "        2. Data privacy and security concerns\n",
      "    C. Collaboration between government, industry, and academia to overcome challenges\n",
      "        1. AI research and development partnerships\n",
      "        2. Regulatory frameworks to ensure responsible AI deployment\n",
      "\n",
      "V. Future prospects of AI in India\n",
      "    A. Potential for AI startups and innovation hubs\n",
      "    B. Global competitiveness in AI research and development\n",
      "    C. Opportunities for India to become a leading AI superpower\n",
      "\n",
      "VI. Conclusion\n",
      "    A. Recap of key points discussed in the blog\n",
      "    B. Summary of the impact of AI on India's economic growth\n",
      "    C. Call to action for stakeholders to invest in AI research and development to harness its full potential in India.\n"
     ]
    }
   ],
   "source": [
    "print(final_state[\"outline\"])"
   ]
  },
  {
   "cell_type": "code",
   "execution_count": 29,
   "metadata": {},
   "outputs": [
    {
     "name": "stdout",
     "output_type": "stream",
     "text": [
      "Artificial Intelligence (AI) has been making significant strides in India in recent years, with the potential to transform various industries and revolutionize the country's economic landscape. As a leading technology hub in the world, India has been at the forefront of AI advancements, with both government initiatives and private sector investments driving innovation in this space.\n",
      "\n",
      "Historically, India has embraced AI technologies early on, with the government actively promoting research and development in the field. Major milestones in AI development in India include the establishment of research institutes and collaborations with leading global institutions to drive innovation. The country has also witnessed the rise of AI startups and innovation hubs, creating a conducive environment for AI growth.\n",
      "\n",
      "The impact of AI on different industries in India has been profound. In the healthcare industry, AI applications have been utilized to improve healthcare outcomes through personalized treatment plans and early disease detection. In the banking and finance industry, AI-powered analytics have enabled better fraud detection and risk management, leading to improved efficiency and customer service. E-commerce platforms have also leveraged AI algorithms for personalized recommendations and AI chatbots for enhanced customer service.\n",
      "\n",
      "While the rise of AI presents numerous opportunities for economic growth and innovation in India, there are also challenges that need to be addressed. Job displacement concerns have been raised due to the automation of repetitive tasks, but there are opportunities for reskilling and upskilling in AI-related fields. Ethical considerations in AI development, such as bias and discrimination in algorithms and data privacy concerns, also need to be addressed through collaboration between government, industry, and academia.\n",
      "\n",
      "Looking towards the future, India has the potential to become a leading AI superpower, with opportunities for AI startups and innovation hubs to flourish. Global competitiveness in AI research and development can position India as a prominent player in the global AI landscape. However, continued investment in AI research and development is crucial to harness the full potential of AI in India.\n",
      "\n",
      "In conclusion, the rise of AI in India has the potential to transform various industries and drive economic growth. It is imperative for stakeholders to invest in AI research and development to ensure responsible deployment and maximize the benefits of AI for the country. By fostering collaboration between government, industry, and academia, India can position itself as a leader in AI innovation and contribute to shaping the future of AI on a global scale.\n"
     ]
    }
   ],
   "source": [
    "print(final_state[\"content\"])"
   ]
  },
  {
   "cell_type": "code",
   "execution_count": 30,
   "metadata": {},
   "outputs": [
    {
     "name": "stdout",
     "output_type": "stream",
     "text": [
      "Feedback:\n",
      "1. Depth of thinking while writing the blog:\n",
      "The student has shown a good level of depth in their thinking while writing the blog. They have explored the impact of AI on various industries in India, as well as the challenges and opportunities that come with the rise of AI. The student has also discussed the government's role in promoting AI research and development in the country. However, more specific examples and case studies could have been included to further enhance the depth of the analysis.\n",
      "\n",
      "2. Argument strength and critical thinking:\n",
      "The arguments presented in the blog are strong and well-supported. The student has effectively highlighted the positive impacts of AI on different industries in India, while also acknowledging the challenges that need to be addressed. The student has shown critical thinking by discussing job displacement concerns and ethical considerations in AI development. Overall, the arguments presented are convincing and well-reasoned.\n",
      "\n",
      "3. Grammatical errors, vocabulary, fluency, and tone:\n",
      "The blog is well-written with minimal grammatical errors. The vocabulary used is appropriate and the student demonstrates a good level of fluency in their writing. The tone of the blog is professional and informative, which is suitable for the topic being discussed. However, some sentences could be rephrased to improve clarity and coherence.\n",
      "\n",
      "4. Coherence, logical flow, and clarity of thought:\n",
      "The blog has a logical flow and the ideas are connected well throughout the text. The student has structured the blog in a way that allows for easy understanding of the points being made. However, transitions between paragraphs could be improved to enhance coherence. Additionally, providing more specific examples and case studies could help to solidify the arguments and improve clarity of thought.\n",
      "\n",
      "Overall, the student has done a commendable job in writing about the rise of AI in India. With some adjustments to include more specific examples and refine the coherence and logical flow of the blog, the student can further enhance the depth and quality of their writing.\n"
     ]
    }
   ],
   "source": [
    "print(final_state[\"evaluation_results\"])"
   ]
  }
 ],
 "metadata": {
  "kernelspec": {
   "display_name": "venv",
   "language": "python",
   "name": "python3"
  },
  "language_info": {
   "codemirror_mode": {
    "name": "ipython",
    "version": 3
   },
   "file_extension": ".py",
   "mimetype": "text/x-python",
   "name": "python",
   "nbconvert_exporter": "python",
   "pygments_lexer": "ipython3",
   "version": "3.12.0"
  }
 },
 "nbformat": 4,
 "nbformat_minor": 2
}

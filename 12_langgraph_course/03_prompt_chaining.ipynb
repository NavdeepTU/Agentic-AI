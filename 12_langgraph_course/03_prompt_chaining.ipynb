{
 "cells": [
  {
   "cell_type": "code",
   "execution_count": 1,
   "metadata": {},
   "outputs": [
    {
     "data": {
      "text/plain": [
       "True"
      ]
     },
     "execution_count": 1,
     "metadata": {},
     "output_type": "execute_result"
    }
   ],
   "source": [
    "from langgraph.graph import StateGraph, START, END\n",
    "from langchain_openai import ChatOpenAI\n",
    "from typing import TypedDict\n",
    "from dotenv import load_dotenv\n",
    "\n",
    "load_dotenv()"
   ]
  },
  {
   "cell_type": "code",
   "execution_count": 2,
   "metadata": {},
   "outputs": [],
   "source": [
    "model = ChatOpenAI()"
   ]
  },
  {
   "cell_type": "code",
   "execution_count": 3,
   "metadata": {},
   "outputs": [],
   "source": [
    "class BlogState(TypedDict):\n",
    "\n",
    "    title: str\n",
    "    outline: str\n",
    "    content: str\n",
    "    evaluation_results: str"
   ]
  },
  {
   "cell_type": "code",
   "execution_count": 4,
   "metadata": {},
   "outputs": [],
   "source": [
    "def create_outline(state: BlogState) -> BlogState:\n",
    "\n",
    "    # fetch title\n",
    "    title = state[\"title\"]\n",
    "\n",
    "    # call llm gen outline\n",
    "    prompt = f\"Generate a detailed outline for a blog o the topic - {title}\"\n",
    "    outline = model.invoke(prompt).content\n",
    "\n",
    "    # update state\n",
    "    state[\"outline\"] = outline\n",
    "\n",
    "    return state"
   ]
  },
  {
   "cell_type": "code",
   "execution_count": 5,
   "metadata": {},
   "outputs": [],
   "source": [
    "def create_blog(state: BlogState) -> BlogState:\n",
    "\n",
    "    title = state[\"title\"]\n",
    "    outline = state[\"outline\"]\n",
    "\n",
    "    prompt = f\"Write a detailed blog on the title - {title} using the following outline \\n {outline}\"\n",
    "\n",
    "    content = model.invoke(prompt).content\n",
    "\n",
    "    state[\"content\"] = content\n",
    "\n",
    "    return state"
   ]
  },
  {
   "cell_type": "code",
   "execution_count": 6,
   "metadata": {},
   "outputs": [],
   "source": [
    "def evaluate_blog(state: BlogState) -> BlogState:\n",
    "\n",
    "    title = state[\"title\"]\n",
    "    content = state[\"content\"]\n",
    "\n",
    "    prompt = f\"Student has written a blog on title : {title},\\\n",
    "               Evaluate the blog based on below points and provide the feedback - \\\n",
    "               1. Depth of thinking while writing the blog.\\\n",
    "               2. Argument strength and critical thinking.\\\n",
    "               3. Check for gramatical errors, vocabulary, fluency and tone.\\\n",
    "               4. Access coherence, logical flow and clarity of thought.\\\n",
    "               Below is the blog written by the student\\n{content}\"\n",
    "    \n",
    "    evaluation_results = model.invoke(prompt).content\n",
    "\n",
    "    state[\"evaluation_results\"] = evaluation_results\n",
    "\n",
    "    return state\n"
   ]
  },
  {
   "cell_type": "code",
   "execution_count": 7,
   "metadata": {},
   "outputs": [],
   "source": [
    "graph = StateGraph(BlogState)\n",
    "\n",
    "# nodes\n",
    "graph.add_node(\"create_outline\", create_outline)\n",
    "graph.add_node(\"create_blog\", create_blog)\n",
    "graph.add_node(\"evaluate_blog\", evaluate_blog)\n",
    "\n",
    "# edges\n",
    "graph.add_edge(START, \"create_outline\")\n",
    "graph.add_edge(\"create_outline\", \"create_blog\")\n",
    "graph.add_edge(\"create_blog\", \"evaluate_blog\")\n",
    "graph.add_edge(\"evaluate_blog\", END)\n",
    "\n",
    "workflow = graph.compile()"
   ]
  },
  {
   "cell_type": "code",
   "execution_count": 8,
   "metadata": {},
   "outputs": [
    {
     "data": {
      "image/png": "[encoded data removed]",
      "text/plain": [
       "<langgraph.graph.state.CompiledStateGraph object at 0x10f4281d0>"
      ]
     },
     "execution_count": 8,
     "metadata": {},
     "output_type": "execute_result"
    }
   ],
   "source": [
    "workflow"
   ]
  },
  {
   "cell_type": "code",
   "execution_count": 9,
   "metadata": {},
   "outputs": [
    {
     "name": "stdout",
     "output_type": "stream",
     "text": [
      "{'title': 'Rise of AI in India.', 'outline': \"I. Introduction\\n    A. Brief overview of artificial intelligence (AI)\\n    B. Explanation of the rise of AI in India\\n    C. Importance of AI in various sectors in India\\n\\nII. Historical background of AI in India\\n    A. Timeline of AI development in India\\n    B. Key milestones in AI research and innovation in India\\n    C. Adoption of AI technology in Indian industries\\n\\nIII. Current landscape of AI in India\\n    A. Growth of AI startups in India\\n    B. Collaboration between government and industry to promote AI\\n    C. Major players in the Indian AI market\\n\\nIV. Applications of AI in India\\n    A. Healthcare industry\\n        1. AI in disease diagnosis and treatment\\n        2. AI in medical imaging\\n    B. Education sector\\n        1. Personalized learning through AI\\n        2. AI in student assessment\\n    C. E-commerce industry\\n        1. AI in recommendation engines\\n        2. AI in fraud detection\\n\\nV. Challenges and opportunities in the AI sector in India\\n    A. Lack of skilled AI professionals\\n    B. Data privacy and security concerns\\n    C. Potential for job displacement\\n    D. Opportunities for AI innovation and growth\\n\\nVI. Government initiatives to promote AI in India\\n    A. National AI Strategy\\n    B. Funding for AI research and development\\n    C. Partnerships with international organizations for AI collaboration\\n\\nVII. Future prospects of AI in India\\n    A. Forecasted growth of the AI market in India\\n    B. Potential impact of AI on the Indian economy\\n    C. Role of AI in shaping India's future technological landscape\\n\\nVIII. Conclusion\\n    A. Summary of key points\\n    B. Reflection on the significance of the rise of AI in India\\n    C. Call to action for continued investment and support for AI in India.\", 'content': \"The Rise of AI in India\\n\\nI. Introduction\\n\\nArtificial intelligence (AI) is a rapidly evolving field of technology that involves the development of machines and systems that can perform tasks that typically require human intelligence, such as visual perception, speech recognition, decision-making, and language translation. In recent years, the adoption and implementation of AI technologies have been on the rise in India, with significant implications for various sectors of the economy. The importance of AI in India can be seen in its potential to revolutionize industries, enhance efficiency and productivity, and drive innovation.\\n\\nII. Historical background of AI in India\\n\\nThe development of AI in India dates back several decades, with key milestones in research and innovation that have laid the foundation for the current landscape of AI in the country. Over the years, India has made significant strides in AI technology, with the establishment of research institutions, academic programs, and industry collaborations that have contributed to the growth of the AI sector in the country.\\n\\nIII. Current landscape of AI in India\\n\\nThe current landscape of AI in India is characterized by a growing number of startups, collaborations between government and industry, and a presence of major players in the Indian AI market. The rise of AI startups in India is particularly noteworthy, with companies leveraging AI technology to develop innovative solutions for various industries, including healthcare, education, and e-commerce.\\n\\nIV. Applications of AI in India\\n\\nAI technology is being increasingly used in various sectors in India, with applications ranging from disease diagnosis and treatment in healthcare to personalized learning in education and recommendation engines in e-commerce. The potential of AI to transform these industries through automation, data analysis, and machine learning is immense, leading to improved efficiency, accuracy, and decision-making.\\n\\nV. Challenges and opportunities in the AI sector in India\\n\\nDespite the rapid growth of AI in India, there are challenges that need to be addressed, such as the lack of skilled AI professionals, data privacy and security concerns, and the potential for job displacement. However, there are also opportunities for AI innovation and growth, as well as the potential for economic development and job creation in the AI sector.\\n\\nVI. Government initiatives to promote AI in India\\n\\nThe Indian government has taken proactive steps to promote the development and adoption of AI technology in the country, with initiatives such as the National AI Strategy, funding for AI research and development, and partnerships with international organizations for AI collaboration. These efforts are aimed at positioning India as a global leader in AI technology and driving the growth of the AI sector in the country.\\n\\nVII. Future prospects of AI in India\\n\\nThe future of AI in India looks promising, with forecasted growth of the AI market, potential impact on the Indian economy, and the role of AI in shaping India's future technological landscape. As AI technology continues to advance and evolve, there is a need for continued investment and support for AI in India to realize its full potential.\\n\\nVIII. Conclusion\\n\\nThe rise of AI in India presents immense opportunities for growth, innovation, and economic development. By leveraging AI technology, India has the potential to transform its industries, drive efficiency and productivity, and become a global leader in AI innovation. Continued investment and support for AI in India will be key to realizing this potential and shaping the future of AI in the country.\", 'evaluation_results': 'Feedback:\\n\\n1. Depth of thinking while writing the blog:\\nThe blog provides a good overview of the rise of AI in India, covering historical background, current landscape, applications, challenges, government initiatives, and future prospects. The student shows a decent level of thinking and research on the topic. However, more in-depth analysis and insights could have been included to enhance the depth of the blog.\\n\\n2. Argument strength and critical thinking:\\nThe arguments presented in the blog are well-supported with relevant information and examples. The student demonstrates critical thinking by highlighting both the opportunities and challenges in the AI sector in India. To strengthen the arguments further, the student could have provided more critical analysis and discussed potential solutions to the challenges identified.\\n\\n3. Check for grammatical errors, vocabulary, fluency, and tone:\\nThe blog is well-written with minimal grammatical errors. The vocabulary used is appropriate for the topic, and the fluency of the writing is good. The tone of the blog is informative and formal, which is suitable for the subject matter. Overall, the student has done a good job in terms of language usage.\\n\\n4. Access coherence, logical flow, and clarity of thought:\\nThe blog is well-structured with clear headings and subheadings that help in organizing the content. The logical flow of ideas from the introduction to the conclusion is maintained throughout the blog. The student presents their thoughts in a coherent manner, making it easy for the reader to follow the progression of ideas. The clarity of thought could be improved by providing more detailed explanations and examples to support key points.\\n\\nOverall, the student has shown a good understanding of the rise of AI in India and has covered relevant aspects of the topic. To enhance the quality of the blog, the student can focus on providing more in-depth analysis, critical insights, and detailed explanations to support their arguments. Additionally, incorporating more specific examples and case studies could further strengthen the content of the blog.'}\n"
     ]
    }
   ],
   "source": [
    "initial_state = {\"title\": \"Rise of AI in India.\"}\n",
    "\n",
    "final_state = workflow.invoke(initial_state)\n",
    "\n",
    "print(final_state)"
   ]
  },
  {
   "cell_type": "code",
   "execution_count": 10,
   "metadata": {},
   "outputs": [
    {
     "name": "stdout",
     "output_type": "stream",
     "text": [
      "I. Introduction\n",
      "    A. Brief overview of artificial intelligence (AI)\n",
      "    B. Explanation of the rise of AI in India\n",
      "    C. Importance of AI in various sectors in India\n",
      "\n",
      "II. Historical background of AI in India\n",
      "    A. Timeline of AI development in India\n",
      "    B. Key milestones in AI research and innovation in India\n",
      "    C. Adoption of AI technology in Indian industries\n",
      "\n",
      "III. Current landscape of AI in India\n",
      "    A. Growth of AI startups in India\n",
      "    B. Collaboration between government and industry to promote AI\n",
      "    C. Major players in the Indian AI market\n",
      "\n",
      "IV. Applications of AI in India\n",
      "    A. Healthcare industry\n",
      "        1. AI in disease diagnosis and treatment\n",
      "        2. AI in medical imaging\n",
      "    B. Education sector\n",
      "        1. Personalized learning through AI\n",
      "        2. AI in student assessment\n",
      "    C. E-commerce industry\n",
      "        1. AI in recommendation engines\n",
      "        2. AI in fraud detection\n",
      "\n",
      "V. Challenges and opportunities in the AI sector in India\n",
      "    A. Lack of skilled AI professionals\n",
      "    B. Data privacy and security concerns\n",
      "    C. Potential for job displacement\n",
      "    D. Opportunities for AI innovation and growth\n",
      "\n",
      "VI. Government initiatives to promote AI in India\n",
      "    A. National AI Strategy\n",
      "    B. Funding for AI research and development\n",
      "    C. Partnerships with international organizations for AI collaboration\n",
      "\n",
      "VII. Future prospects of AI in India\n",
      "    A. Forecasted growth of the AI market in India\n",
      "    B. Potential impact of AI on the Indian economy\n",
      "    C. Role of AI in shaping India's future technological landscape\n",
      "\n",
      "VIII. Conclusion\n",
      "    A. Summary of key points\n",
      "    B. Reflection on the significance of the rise of AI in India\n",
      "    C. Call to action for continued investment and support for AI in India.\n"
     ]
    }
   ],
   "source": [
    "print(final_state[\"outline\"])"
   ]
  },
  {
   "cell_type": "code",
   "execution_count": 11,
   "metadata": {},
   "outputs": [
    {
     "name": "stdout",
     "output_type": "stream",
     "text": [
      "The Rise of AI in India\n",
      "\n",
      "I. Introduction\n",
      "\n",
      "Artificial intelligence (AI) is a rapidly evolving field of technology that involves the development of machines and systems that can perform tasks that typically require human intelligence, such as visual perception, speech recognition, decision-making, and language translation. In recent years, the adoption and implementation of AI technologies have been on the rise in India, with significant implications for various sectors of the economy. The importance of AI in India can be seen in its potential to revolutionize industries, enhance efficiency and productivity, and drive innovation.\n",
      "\n",
      "II. Historical background of AI in India\n",
      "\n",
      "The development of AI in India dates back several decades, with key milestones in research and innovation that have laid the foundation for the current landscape of AI in the country. Over the years, India has made significant strides in AI technology, with the establishment of research institutions, academic programs, and industry collaborations that have contributed to the growth of the AI sector in the country.\n",
      "\n",
      "III. Current landscape of AI in India\n",
      "\n",
      "The current landscape of AI in India is characterized by a growing number of startups, collaborations between government and industry, and a presence of major players in the Indian AI market. The rise of AI startups in India is particularly noteworthy, with companies leveraging AI technology to develop innovative solutions for various industries, including healthcare, education, and e-commerce.\n",
      "\n",
      "IV. Applications of AI in India\n",
      "\n",
      "AI technology is being increasingly used in various sectors in India, with applications ranging from disease diagnosis and treatment in healthcare to personalized learning in education and recommendation engines in e-commerce. The potential of AI to transform these industries through automation, data analysis, and machine learning is immense, leading to improved efficiency, accuracy, and decision-making.\n",
      "\n",
      "V. Challenges and opportunities in the AI sector in India\n",
      "\n",
      "Despite the rapid growth of AI in India, there are challenges that need to be addressed, such as the lack of skilled AI professionals, data privacy and security concerns, and the potential for job displacement. However, there are also opportunities for AI innovation and growth, as well as the potential for economic development and job creation in the AI sector.\n",
      "\n",
      "VI. Government initiatives to promote AI in India\n",
      "\n",
      "The Indian government has taken proactive steps to promote the development and adoption of AI technology in the country, with initiatives such as the National AI Strategy, funding for AI research and development, and partnerships with international organizations for AI collaboration. These efforts are aimed at positioning India as a global leader in AI technology and driving the growth of the AI sector in the country.\n",
      "\n",
      "VII. Future prospects of AI in India\n",
      "\n",
      "The future of AI in India looks promising, with forecasted growth of the AI market, potential impact on the Indian economy, and the role of AI in shaping India's future technological landscape. As AI technology continues to advance and evolve, there is a need for continued investment and support for AI in India to realize its full potential.\n",
      "\n",
      "VIII. Conclusion\n",
      "\n",
      "The rise of AI in India presents immense opportunities for growth, innovation, and economic development. By leveraging AI technology, India has the potential to transform its industries, drive efficiency and productivity, and become a global leader in AI innovation. Continued investment and support for AI in India will be key to realizing this potential and shaping the future of AI in the country.\n"
     ]
    }
   ],
   "source": [
    "print(final_state[\"content\"])"
   ]
  },
  {
   "cell_type": "code",
   "execution_count": 12,
   "metadata": {},
   "outputs": [
    {
     "name": "stdout",
     "output_type": "stream",
     "text": [
      "Feedback:\n",
      "\n",
      "1. Depth of thinking while writing the blog:\n",
      "The blog provides a good overview of the rise of AI in India, covering historical background, current landscape, applications, challenges, government initiatives, and future prospects. The student shows a decent level of thinking and research on the topic. However, more in-depth analysis and insights could have been included to enhance the depth of the blog.\n",
      "\n",
      "2. Argument strength and critical thinking:\n",
      "The arguments presented in the blog are well-supported with relevant information and examples. The student demonstrates critical thinking by highlighting both the opportunities and challenges in the AI sector in India. To strengthen the arguments further, the student could have provided more critical analysis and discussed potential solutions to the challenges identified.\n",
      "\n",
      "3. Check for grammatical errors, vocabulary, fluency, and tone:\n",
      "The blog is well-written with minimal grammatical errors. The vocabulary used is appropriate for the topic, and the fluency of the writing is good. The tone of the blog is informative and formal, which is suitable for the subject matter. Overall, the student has done a good job in terms of language usage.\n",
      "\n",
      "4. Access coherence, logical flow, and clarity of thought:\n",
      "The blog is well-structured with clear headings and subheadings that help in organizing the content. The logical flow of ideas from the introduction to the conclusion is maintained throughout the blog. The student presents their thoughts in a coherent manner, making it easy for the reader to follow the progression of ideas. The clarity of thought could be improved by providing more detailed explanations and examples to support key points.\n",
      "\n",
      "Overall, the student has shown a good understanding of the rise of AI in India and has covered relevant aspects of the topic. To enhance the quality of the blog, the student can focus on providing more in-depth analysis, critical insights, and detailed explanations to support their arguments. Additionally, incorporating more specific examples and case studies could further strengthen the content of the blog.\n"
     ]
    }
   ],
   "source": [
    "print(final_state[\"evaluation_results\"])"
   ]
  }
 ],
 "metadata": {
  "kernelspec": {
   "display_name": "venv",
   "language": "python",
   "name": "python3"
  },
  "language_info": {
   "codemirror_mode": {
    "name": "ipython",
    "version": 3
   },
   "file_extension": ".py",
   "mimetype": "text/x-python",
   "name": "python",
   "nbconvert_exporter": "python",
   "pygments_lexer": "ipython3",
   "version": "3.12.0"
  }
 },
 "nbformat": 4,
 "nbformat_minor": 2
}

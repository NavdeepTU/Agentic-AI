{
 "cells": [
  {
   "cell_type": "code",
   "execution_count": 11,
   "metadata": {},
   "outputs": [
    {
     "data": {
      "text/plain": [
       "True"
      ]
     },
     "execution_count": 11,
     "metadata": {},
     "output_type": "execute_result"
    }
   ],
   "source": [
    "from langgraph.graph import StateGraph, START, END\n",
    "from langchain_openai import ChatOpenAI\n",
    "from typing import TypedDict\n",
    "from dotenv import load_dotenv\n",
    "\n",
    "load_dotenv()"
   ]
  },
  {
   "cell_type": "code",
   "execution_count": 12,
   "metadata": {},
   "outputs": [],
   "source": [
    "model = ChatOpenAI()"
   ]
  },
  {
   "cell_type": "code",
   "execution_count": 13,
   "metadata": {},
   "outputs": [],
   "source": [
    "class BlogState(TypedDict):\n",
    "\n",
    "    title: str\n",
    "    outline: str\n",
    "    content: str"
   ]
  },
  {
   "cell_type": "code",
   "execution_count": 14,
   "metadata": {},
   "outputs": [],
   "source": [
    "def create_outline(state: BlogState) -> BlogState:\n",
    "\n",
    "    # fetch title\n",
    "    title = state[\"title\"]\n",
    "\n",
    "    # call llm gen outline\n",
    "    prompt = f\"Generate a detailed outline for a blog o the topic - {title}\"\n",
    "    outline = model.invoke(prompt).content\n",
    "\n",
    "    # update state\n",
    "    state[\"outline\"] = outline\n",
    "\n",
    "    return state"
   ]
  },
  {
   "cell_type": "code",
   "execution_count": 15,
   "metadata": {},
   "outputs": [],
   "source": [
    "def create_blog(state: BlogState) -> BlogState:\n",
    "\n",
    "    title = state[\"title\"]\n",
    "    outline = state[\"outline\"]\n",
    "\n",
    "    prompt = f\"Write a detailed blog on the title - {title} using the following outline \\n {outline}\"\n",
    "\n",
    "    content = model.invoke(prompt).content\n",
    "\n",
    "    state[\"content\"] = content\n",
    "\n",
    "    return state"
   ]
  },
  {
   "cell_type": "code",
   "execution_count": 16,
   "metadata": {},
   "outputs": [],
   "source": [
    "graph = StateGraph(BlogState)\n",
    "\n",
    "# nodes\n",
    "graph.add_node(\"create_outline\", create_outline)\n",
    "graph.add_node(\"create_blog\", create_blog)\n",
    "\n",
    "# edges\n",
    "graph.add_edge(START, \"create_outline\")\n",
    "graph.add_edge(\"create_outline\", \"create_blog\")\n",
    "graph.add_edge(\"create_blog\", END)\n",
    "\n",
    "workflow = graph.compile()"
   ]
  },
  {
   "cell_type": "code",
   "execution_count": 17,
   "metadata": {},
   "outputs": [
    {
     "name": "stdout",
     "output_type": "stream",
     "text": [
      "{'title': 'Rise of AI in India.', 'outline': \"I. Introduction \\n    A. Definition of AI \\n    B. Importance of AI in today's world \\n    C. Overview of AI in India \\n\\nII. Historical background \\n    A. Brief history of AI development in India \\n    B. Key players in the AI industry in India \\n    C. Government initiatives to promote AI \\n\\nIII. Current state of AI in India \\n    A. Adoption of AI in various industries \\n    B. Growth of AI startups in India \\n    C. Challenges faced by the AI industry in India \\n\\nIV. Impact of AI on the Indian economy \\n    A. Job market and employment trends \\n    B. Changes in business operations \\n    C. Opportunities for growth and innovation \\n\\nV. Future prospects of AI in India \\n    A. Predictions for the growth of AI in India \\n    B. Potential impact on society and culture \\n    C. Challenges and opportunities for AI development in India \\n\\nVI. Conclusion \\n    A. Recap of key points \\n    B. Final thoughts on the rise of AI in India \\n    C. Call to action for further exploration and research on AI in India\", 'content': \"\\n\\nI. Introduction\\n\\nArtificial Intelligence (AI) is a branch of computer science that aims to create intelligent machines that can think and learn like humans. It involves the development of algorithms and technology that can perform tasks that typically require human intelligence, such as problem-solving, learning, and decision-making. In today's world, AI plays a crucial role in various industries, from healthcare to finance, and is seen as a key driver of innovation and growth. In India, the adoption of AI is on the rise, with the country emerging as a major player in the global AI landscape.\\n\\nII. Historical background\\n\\nThe development of AI in India can be traced back to the early 1980s, with the establishment of research institutions such as the Indian Institute of Science (IISc) and the Indian Institutes of Technology (IITs). Over the years, several key players have emerged in the AI industry in India, including multinational corporations such as IBM and Google, as well as homegrown startups like Freshworks and ZestMoney. The government has also been actively promoting AI through initiatives such as the National AI Portal and the National Programme on AI.\\n\\nIII. Current state of AI in India\\n\\nAI is being increasingly adopted across various industries in India, including healthcare, agriculture, education, and e-commerce. The country has also seen a rapid growth in AI startups, with a number of companies focusing on areas such as natural language processing, computer vision, and robotics. However, the AI industry in India faces several challenges, such as the lack of skilled talent, data privacy concerns, and regulatory issues.\\n\\nIV. Impact of AI on the Indian economy\\n\\nThe rise of AI is expected to have a profound impact on the Indian economy, particularly in terms of job market and employment trends. While AI has the potential to create new opportunities for growth and innovation, it also raises concerns about automation and job displacement. In addition, AI is expected to bring about significant changes in business operations, with companies incorporating AI technologies to improve efficiency and customer experience.\\n\\nV. Future prospects of AI in India\\n\\nThe future of AI in India looks promising, with experts predicting a steady growth in the adoption of AI technologies across industries. However, there are also challenges that need to be addressed, such as the ethical implications of AI, the need for regulatory frameworks, and the importance of upskilling the workforce. The potential impact of AI on society and culture in India is also a topic of discussion, with questions being raised about the implications of AI on privacy, security, and human rights.\\n\\nVI. Conclusion\\n\\nIn conclusion, the rise of AI in India presents both opportunities and challenges for the country. While AI has the potential to drive innovation and economic growth, it also raises important questions about ethics, regulation, and the future of work. It is important for stakeholders in India to work together to navigate the complexities of AI development and ensure that AI technologies are used responsibly and ethically. Overall, the rise of AI in India is a phenomenon that requires further exploration and research to fully understand its implications and potential impact on society.\"}\n"
     ]
    }
   ],
   "source": [
    "initial_state = {\"title\": \"Rise of AI in India.\"}\n",
    "\n",
    "final_state = workflow.invoke(initial_state)\n",
    "\n",
    "print(final_state)"
   ]
  },
  {
   "cell_type": "code",
   "execution_count": 18,
   "metadata": {},
   "outputs": [
    {
     "name": "stdout",
     "output_type": "stream",
     "text": [
      "I. Introduction \n",
      "    A. Definition of AI \n",
      "    B. Importance of AI in today's world \n",
      "    C. Overview of AI in India \n",
      "\n",
      "II. Historical background \n",
      "    A. Brief history of AI development in India \n",
      "    B. Key players in the AI industry in India \n",
      "    C. Government initiatives to promote AI \n",
      "\n",
      "III. Current state of AI in India \n",
      "    A. Adoption of AI in various industries \n",
      "    B. Growth of AI startups in India \n",
      "    C. Challenges faced by the AI industry in India \n",
      "\n",
      "IV. Impact of AI on the Indian economy \n",
      "    A. Job market and employment trends \n",
      "    B. Changes in business operations \n",
      "    C. Opportunities for growth and innovation \n",
      "\n",
      "V. Future prospects of AI in India \n",
      "    A. Predictions for the growth of AI in India \n",
      "    B. Potential impact on society and culture \n",
      "    C. Challenges and opportunities for AI development in India \n",
      "\n",
      "VI. Conclusion \n",
      "    A. Recap of key points \n",
      "    B. Final thoughts on the rise of AI in India \n",
      "    C. Call to action for further exploration and research on AI in India\n"
     ]
    }
   ],
   "source": [
    "print(final_state[\"outline\"])"
   ]
  },
  {
   "cell_type": "code",
   "execution_count": 19,
   "metadata": {},
   "outputs": [
    {
     "name": "stdout",
     "output_type": "stream",
     "text": [
      "\n",
      "\n",
      "I. Introduction\n",
      "\n",
      "Artificial Intelligence (AI) is a branch of computer science that aims to create intelligent machines that can think and learn like humans. It involves the development of algorithms and technology that can perform tasks that typically require human intelligence, such as problem-solving, learning, and decision-making. In today's world, AI plays a crucial role in various industries, from healthcare to finance, and is seen as a key driver of innovation and growth. In India, the adoption of AI is on the rise, with the country emerging as a major player in the global AI landscape.\n",
      "\n",
      "II. Historical background\n",
      "\n",
      "The development of AI in India can be traced back to the early 1980s, with the establishment of research institutions such as the Indian Institute of Science (IISc) and the Indian Institutes of Technology (IITs). Over the years, several key players have emerged in the AI industry in India, including multinational corporations such as IBM and Google, as well as homegrown startups like Freshworks and ZestMoney. The government has also been actively promoting AI through initiatives such as the National AI Portal and the National Programme on AI.\n",
      "\n",
      "III. Current state of AI in India\n",
      "\n",
      "AI is being increasingly adopted across various industries in India, including healthcare, agriculture, education, and e-commerce. The country has also seen a rapid growth in AI startups, with a number of companies focusing on areas such as natural language processing, computer vision, and robotics. However, the AI industry in India faces several challenges, such as the lack of skilled talent, data privacy concerns, and regulatory issues.\n",
      "\n",
      "IV. Impact of AI on the Indian economy\n",
      "\n",
      "The rise of AI is expected to have a profound impact on the Indian economy, particularly in terms of job market and employment trends. While AI has the potential to create new opportunities for growth and innovation, it also raises concerns about automation and job displacement. In addition, AI is expected to bring about significant changes in business operations, with companies incorporating AI technologies to improve efficiency and customer experience.\n",
      "\n",
      "V. Future prospects of AI in India\n",
      "\n",
      "The future of AI in India looks promising, with experts predicting a steady growth in the adoption of AI technologies across industries. However, there are also challenges that need to be addressed, such as the ethical implications of AI, the need for regulatory frameworks, and the importance of upskilling the workforce. The potential impact of AI on society and culture in India is also a topic of discussion, with questions being raised about the implications of AI on privacy, security, and human rights.\n",
      "\n",
      "VI. Conclusion\n",
      "\n",
      "In conclusion, the rise of AI in India presents both opportunities and challenges for the country. While AI has the potential to drive innovation and economic growth, it also raises important questions about ethics, regulation, and the future of work. It is important for stakeholders in India to work together to navigate the complexities of AI development and ensure that AI technologies are used responsibly and ethically. Overall, the rise of AI in India is a phenomenon that requires further exploration and research to fully understand its implications and potential impact on society.\n"
     ]
    }
   ],
   "source": [
    "print(final_state[\"content\"])"
   ]
  },
  {
   "cell_type": "code",
   "execution_count": null,
   "metadata": {},
   "outputs": [],
   "source": []
  }
 ],
 "metadata": {
  "kernelspec": {
   "display_name": "venv",
   "language": "python",
   "name": "python3"
  },
  "language_info": {
   "codemirror_mode": {
    "name": "ipython",
    "version": 3
   },
   "file_extension": ".py",
   "mimetype": "text/x-python",
   "name": "python",
   "nbconvert_exporter": "python",
   "pygments_lexer": "ipython3",
   "version": "3.12.0"
  }
 },
 "nbformat": 4,
 "nbformat_minor": 2
}

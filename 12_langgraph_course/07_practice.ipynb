{
 "cells": [
  {
   "cell_type": "code",
   "execution_count": 41,
   "metadata": {},
   "outputs": [
    {
     "data": {
      "text/plain": [
       "True"
      ]
     },
     "execution_count": 41,
     "metadata": {},
     "output_type": "execute_result"
    }
   ],
   "source": [
    "from langgraph.graph import StateGraph, START, END\n",
    "from langchain_openai import ChatOpenAI\n",
    "from typing import TypedDict, Annotated\n",
    "from pydantic import BaseModel, Field\n",
    "from operator import add\n",
    "from dotenv import load_dotenv\n",
    "\n",
    "load_dotenv()"
   ]
  },
  {
   "cell_type": "code",
   "execution_count": 42,
   "metadata": {},
   "outputs": [],
   "source": [
    "model = ChatOpenAI(model=\"gpt-4o-mini\")"
   ]
  },
  {
   "cell_type": "code",
   "execution_count": 43,
   "metadata": {},
   "outputs": [],
   "source": [
    "# structured output\n",
    "\n",
    "class FeedbackModel(BaseModel):\n",
    "\n",
    "    feedback: Annotated[str, Field(description=\"Detailed feedback of the item.\")]\n",
    "    score: Annotated[int, Field(ge=0, le=10, description=\"Score in range between 1-10(including)\")]"
   ]
  },
  {
   "cell_type": "code",
   "execution_count": 44,
   "metadata": {},
   "outputs": [],
   "source": [
    "structured_model = model.with_structured_output(FeedbackModel)"
   ]
  },
  {
   "cell_type": "code",
   "execution_count": 45,
   "metadata": {},
   "outputs": [],
   "source": [
    "# state\n",
    "\n",
    "class ReviewState(TypedDict):\n",
    "\n",
    "    item: str\n",
    "    camera_review: str\n",
    "    battery_review: str\n",
    "    display_review: str\n",
    "    final_review: str\n",
    "    individual_scores: Annotated[list[int], add]\n",
    "    avg_score: float"
   ]
  },
  {
   "cell_type": "code",
   "execution_count": 46,
   "metadata": {},
   "outputs": [],
   "source": [
    "def generate_camera_review(state: ReviewState):\n",
    "\n",
    "    item = state[\"item\"]\n",
    "    prompt = f\"Generate a random review of Camera of {item}.\"\n",
    "    result = structured_model.invoke(prompt)\n",
    "\n",
    "    return {\"camera_review\": result.feedback,\n",
    "            \"individual_scores\": [result.score]}"
   ]
  },
  {
   "cell_type": "code",
   "execution_count": 47,
   "metadata": {},
   "outputs": [],
   "source": [
    "def generate_battery_review(state: ReviewState):\n",
    "\n",
    "    item = state[\"item\"]\n",
    "    prompt = f\"Generate a random review of Battery of {item}.\"\n",
    "    result = structured_model.invoke(prompt)\n",
    "\n",
    "    return {\"battery_review\": result.feedback,\n",
    "            \"individual_scores\": [result.score]}"
   ]
  },
  {
   "cell_type": "code",
   "execution_count": 48,
   "metadata": {},
   "outputs": [],
   "source": [
    "def generate_display_review(state: ReviewState):\n",
    "\n",
    "    item = state[\"item\"]\n",
    "    prompt = f\"Generate a random review of Display of {item}.\"\n",
    "    result = structured_model.invoke(prompt)\n",
    "\n",
    "    return {\"display_review\": result.feedback,\n",
    "            \"individual_scores\": [result.score]}"
   ]
  },
  {
   "cell_type": "code",
   "execution_count": 49,
   "metadata": {},
   "outputs": [],
   "source": [
    "def generate_final_review(state: ReviewState):\n",
    "\n",
    "    item = state[\"item\"]\n",
    "    camera_review = state[\"camera_review\"]\n",
    "    battery_review = state[\"battery_review\"]\n",
    "    display_review = state[\"battery_review\"]\n",
    "    individual_scores = state[\"individual_scores\"]\n",
    "\n",
    "    prompt = f\"Generate a final review of {item} based on below reviews of its camera, battery and display\\n\\\n",
    "                Camera Review: {camera_review}\\n\\\n",
    "                Battery Review: {battery_review}\\n\\\n",
    "                Display Review: {display_review}\"\n",
    "    \n",
    "    result = model.invoke(prompt).content\n",
    "\n",
    "    avg_score = sum(individual_scores)/len(individual_scores)\n",
    "\n",
    "    return {\"final_review\": result,\n",
    "            \"avg_score\": avg_score}"
   ]
  },
  {
   "cell_type": "code",
   "execution_count": 50,
   "metadata": {},
   "outputs": [],
   "source": [
    "# graph\n",
    "graph = StateGraph(ReviewState)\n",
    "\n",
    "# nodes\n",
    "graph.add_node(\"generate_camera_review\", generate_camera_review)\n",
    "graph.add_node(\"generate_battery_review\", generate_battery_review)\n",
    "graph.add_node(\"generate_display_review\", generate_display_review)\n",
    "graph.add_node(\"generate_final_review\", generate_final_review)\n",
    "\n",
    "# edges\n",
    "graph.add_edge(START, \"generate_camera_review\")\n",
    "graph.add_edge(START, \"generate_battery_review\")\n",
    "graph.add_edge(START, \"generate_display_review\")\n",
    "\n",
    "graph.add_edge(\"generate_camera_review\", \"generate_final_review\")\n",
    "graph.add_edge(\"generate_battery_review\", \"generate_final_review\")\n",
    "graph.add_edge(\"generate_display_review\", \"generate_final_review\")\n",
    "\n",
    "graph.add_edge(\"generate_final_review\", END)\n",
    "\n",
    "workflow = graph.compile()"
   ]
  },
  {
   "cell_type": "code",
   "execution_count": 51,
   "metadata": {},
   "outputs": [
    {
     "data": {
      "image/png": "[encoded data removed]",
      "text/plain": [
       "<langgraph.graph.state.CompiledStateGraph object at 0x11503e8a0>"
      ]
     },
     "execution_count": 51,
     "metadata": {},
     "output_type": "execute_result"
    }
   ],
   "source": [
    "workflow"
   ]
  },
  {
   "cell_type": "code",
   "execution_count": 52,
   "metadata": {},
   "outputs": [],
   "source": [
    "initial_state = {\"item\": \"Galaxy S25 Ultra\"}\n",
    "final_state = workflow.invoke(initial_state)"
   ]
  },
  {
   "cell_type": "code",
   "execution_count": 53,
   "metadata": {},
   "outputs": [
    {
     "data": {
      "text/plain": [
       "{'item': 'Galaxy S25 Ultra',\n",
       " 'camera_review': 'The camera on the Galaxy S25 Ultra is nothing short of spectacular. With its impressive 200MP main sensor, every shot taken is incredibly detailed, capturing both vibrant colors and subtle textures. Low-light performance is also top-notch, thanks to the advanced night mode that brightens up dark scenes without introducing too much noise. The zoom capabilities are particularly mind-blowing—up to 100x digital zoom allows for amazing close-ups from a distance, though the quality does drop a little at the highest settings. Additionally, the different shooting modes, including portrait and pro mode, provide users with great flexibility, making it suitable for casual shooters and photography enthusiasts alike. Overall, the camera experience on the Galaxy S25 Ultra truly elevates mobile photography to new heights, making it one of the best on the market.',\n",
       " 'battery_review': \"The Galaxy S25 Ultra's battery life is nothing short of impressive. With a whopping 5000mAh capacity, I can easily get through an entire day of heavy usage, which includes streaming videos, gaming, and frequent social media updates without reaching for the charger. Charging is also remarkably fast, with both wired and wireless options getting my phone back to 100% in no time. One of my favorite features is the battery optimization settings, which help extend battery life even further when needed. Overall, I’m extremely satisfied with the performance and reliability of the Galaxy S25 Ultra's battery, making it a standout feature of this device.\",\n",
       " 'display_review': \"The display of the Galaxy S25 Ultra is absolutely stunning! The 6.8-inch Dynamic AMOLED panel offers a resolution that makes every pixel pop. Colors are vivid and true to life, and the contrast ratio makes even the darkest scenes look incredible. The adaptive refresh rate of up to 120Hz ensures that scrolling feels smooth and responsive, whether I'm surfing the web or playing games. HDR10+ support means that watching videos is an immersive experience, with bright highlights and deep shadows. The peak brightness reaches impressive levels, making it easy to view content even in direct sunlight. Overall, the display is one of the standout features of the S25 Ultra, delivering exceptional performance for both everyday use and media consumption. Highly recommended!\",\n",
       " 'final_review': \"**Final Review of Galaxy S25 Ultra**  \\n\\nThe Samsung Galaxy S25 Ultra is a powerhouse smartphone that excels in several key areas: camera quality, battery life, and display performance. Each of these features has been meticulously designed to elevate the user's experience, making the S25 Ultra one of the most compelling options on the market today.\\n\\n**Camera**  \\nThe camera system of the Galaxy S25 Ultra is nothing short of revolutionary. Boasting a stunning 200MP main sensor, users can expect incredible detail in every photograph. This high resolution translates into vibrant colors and intricate textures that bring photos to life. The night mode enhances low-light photography remarkably well, mitigating noise while illuminating dark scenes. The impressive zoom capabilities are a standout feature as well, with the ability to achieve up to 100x digital zoom, allowing for breathtaking close-ups even from a great distance. While the quality may slightly dip at maximum zoom, the versatility offered by various shooting modes, including portrait and pro modes, makes this camera suitable for everyone from casual snappers to serious photography enthusiasts. In summary, the camera experience on the Galaxy S25 Ultra is unparalleled, making mobile photography more accessible and enjoyable than ever.\\n\\n**Battery**  \\nBattery performance on the Galaxy S25 Ultra is equally impressive. The robust 5000mAh capacity easily supports a full day of heavy usage, whether that includes binge-watching videos, gaming, or keeping up with social media. Users will appreciate the quick charging options, both wired and wireless, ensuring that you can get back to 100% without wasting much time. The device also offers thoughtful battery optimization settings for those moments when you need to extend battery life even further. This combination of longevity and efficiency makes the S25 Ultra's battery a key highlight, offering reliability that complements its other standout features.\\n\\n**Display**  \\nThe Galaxy S25 Ultra’s display is equally remarkable, although the details were inadvertently left out of the provided reviews. Presumably, it features a large, high-resolution screen with vibrant colors and deep blacks, ensuring an exceptional visual experience whether you are gaming, watching videos, or simply browsing. The display’s refresh rate and responsiveness likely add to the overall fluidity and smoothness of interactions, enhancing the user interface and making everything feel more dynamic and engaging.\\n\\n**Conclusion**  \\nOverall, the Samsung Galaxy S25 Ultra seamlessly combines cutting-edge technology with user-centric features. The exceptional camera capabilities raise the bar for mobile photography, while the robust battery life encourages users to engage with their device throughout the day without worry. If the display matches the excellence of the other features, the S25 Ultra solidifies its position as a top contender in the flagship smartphone space. Samsung has indeed set a new standard with the Galaxy S25 Ultra, making it a stellar choice for anyone seeking a high-performance smartphone that does it all.\",\n",
       " 'individual_scores': [9, 9, 10],\n",
       " 'avg_score': 9.333333333333334}"
      ]
     },
     "execution_count": 53,
     "metadata": {},
     "output_type": "execute_result"
    }
   ],
   "source": [
    "final_state"
   ]
  }
 ],
 "metadata": {
  "kernelspec": {
   "display_name": "venv",
   "language": "python",
   "name": "python3"
  },
  "language_info": {
   "codemirror_mode": {
    "name": "ipython",
    "version": 3
   },
   "file_extension": ".py",
   "mimetype": "text/x-python",
   "name": "python",
   "nbconvert_exporter": "python",
   "pygments_lexer": "ipython3",
   "version": "3.12.0"
  }
 },
 "nbformat": 4,
 "nbformat_minor": 2
}

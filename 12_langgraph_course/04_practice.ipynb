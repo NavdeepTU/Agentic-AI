{
 "cells": [
  {
   "cell_type": "code",
   "execution_count": 24,
   "metadata": {},
   "outputs": [
    {
     "data": {
      "text/plain": [
       "True"
      ]
     },
     "execution_count": 24,
     "metadata": {},
     "output_type": "execute_result"
    }
   ],
   "source": [
    "from langgraph.graph import StateGraph, START, END\n",
    "from langchain_openai import ChatOpenAI\n",
    "from typing import TypedDict\n",
    "from dotenv import load_dotenv\n",
    "\n",
    "load_dotenv()"
   ]
  },
  {
   "cell_type": "code",
   "execution_count": 25,
   "metadata": {},
   "outputs": [],
   "source": [
    "model = ChatOpenAI()"
   ]
  },
  {
   "cell_type": "code",
   "execution_count": 26,
   "metadata": {},
   "outputs": [],
   "source": [
    "# define the state\n",
    "class ReviewState(TypedDict):\n",
    "\n",
    "    item: str\n",
    "    review: str\n",
    "    evaluation: str"
   ]
  },
  {
   "cell_type": "code",
   "execution_count": 27,
   "metadata": {},
   "outputs": [],
   "source": [
    "def generate_review(state: ReviewState) -> ReviewState:\n",
    "    item = state[\"item\"]\n",
    "    prompt = f\"Generate a random negative review for {item}\"\n",
    "    review = model.invoke(prompt).content\n",
    "    state[\"review\"] = review\n",
    "    return state"
   ]
  },
  {
   "cell_type": "code",
   "execution_count": 28,
   "metadata": {},
   "outputs": [],
   "source": [
    "def evaluate_review(state: ReviewState) -> ReviewState:\n",
    "    review = state[\"review\"]\n",
    "    prompt = f\"Evaluate the below review\\n{review}\\n If the review is positive thank the customer but if it is negative then give the customer other options.\"\n",
    "    evaluation_string = model.invoke(prompt).content\n",
    "    state[\"evaluation\"] = evaluation_string\n",
    "    return state"
   ]
  },
  {
   "cell_type": "code",
   "execution_count": 29,
   "metadata": {},
   "outputs": [],
   "source": [
    "# define the graph\n",
    "graph = StateGraph(ReviewState)\n",
    "# add nodes\n",
    "graph.add_node(\"Review_Generation\", generate_review)\n",
    "graph.add_node(\"Review_Evaluation\", evaluate_review)\n",
    "# add edges\n",
    "graph.add_edge(START, \"Review_Generation\")\n",
    "graph.add_edge(\"Review_Generation\", \"Review_Evaluation\")\n",
    "graph.add_edge(\"Review_Evaluation\", END)\n",
    "# compile the graph\n",
    "workflow = graph.compile()"
   ]
  },
  {
   "cell_type": "code",
   "execution_count": 30,
   "metadata": {},
   "outputs": [],
   "source": [
    "initial_state = {\"item\": \"Galaxy S25 Ultra\"}\n",
    "final_state = workflow.invoke(initial_state)"
   ]
  },
  {
   "cell_type": "code",
   "execution_count": 31,
   "metadata": {},
   "outputs": [
    {
     "name": "stdout",
     "output_type": "stream",
     "text": [
      "\"I am extremely disappointed with the Galaxy S25 Ultra. The battery life is abysmal, lasting only a few hours before needing to be charged again. The camera quality is also subpar, producing grainy and blurry photos. Additionally, the phone constantly freezes and lags, making it incredibly frustrating to use. Do not waste your money on this disappointment of a phone.\"\n"
     ]
    }
   ],
   "source": [
    "print(final_state[\"review\"])"
   ]
  },
  {
   "cell_type": "code",
   "execution_count": 32,
   "metadata": {},
   "outputs": [
    {
     "name": "stdout",
     "output_type": "stream",
     "text": [
      "We are sorry to hear that you are disappointed with your Galaxy S25 Ultra. We strive to provide the best experience for our customers and we apologize if the phone did not meet your expectations. \n",
      "\n",
      "We recommend considering other options that may better suit your needs, such as the latest models from different brands or seeking assistance from our customer service team for troubleshooting and potential solutions to the issues you are experiencing. Thank you for sharing your feedback with us.\n"
     ]
    }
   ],
   "source": [
    "print(final_state[\"evaluation\"])"
   ]
  },
  {
   "cell_type": "code",
   "execution_count": null,
   "metadata": {},
   "outputs": [],
   "source": []
  }
 ],
 "metadata": {
  "kernelspec": {
   "display_name": "venv",
   "language": "python",
   "name": "python3"
  },
  "language_info": {
   "codemirror_mode": {
    "name": "ipython",
    "version": 3
   },
   "file_extension": ".py",
   "mimetype": "text/x-python",
   "name": "python",
   "nbconvert_exporter": "python",
   "pygments_lexer": "ipython3",
   "version": "3.12.0"
  }
 },
 "nbformat": 4,
 "nbformat_minor": 2
}
